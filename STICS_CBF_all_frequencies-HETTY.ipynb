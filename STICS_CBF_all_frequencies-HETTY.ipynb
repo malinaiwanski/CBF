{
 "cells": [
  {
   "cell_type": "code",
   "execution_count": 1,
   "metadata": {},
   "outputs": [],
   "source": [
    "# imports\n",
    "import numpy as np\n",
    "import math\n",
    "\n",
    "import sys as sys\n",
    "import os\n",
    "import tkinter as tk\n",
    "from tkinter import filedialog\n",
    "\n",
    "#import matplotlib as mpl\n",
    "import matplotlib.pyplot as plt\n",
    "#import pylab as plb\n",
    "import seaborn as sns\n",
    "import pandas as pd\n",
    "\n",
    "#from skimage import io\n",
    "#from scipy.signal import argrelextrema, savgol_filter\n",
    "#from scipy.optimize import curve_fit\n",
    "#from scipy import exp\n",
    "#from astropy import modeling\n",
    "#import warnings\n",
    "#from scipy.optimize import OptimizeWarning\n",
    "\n",
    "#import time\n",
    "import datetime as dt\n",
    "import csv\n",
    "\n",
    "%matplotlib inline"
   ]
  },
  {
   "cell_type": "code",
   "execution_count": 2,
   "metadata": {},
   "outputs": [],
   "source": [
    "# options\n",
    "zsave = True\n",
    "zplot = True\n",
    "zsplit = True"
   ]
  },
  {
   "cell_type": "code",
   "execution_count": 3,
   "metadata": {},
   "outputs": [],
   "source": [
    "# function for debugging\n",
    "def pause():\n",
    "    programPause = input('Press <ENTER> to continue.')"
   ]
  },
  {
   "cell_type": "code",
   "execution_count": 4,
   "metadata": {},
   "outputs": [],
   "source": [
    "root = tk.Tk()\n",
    "root.withdraw()\n",
    "\n",
    "directory = filedialog.askdirectory(title = 'choose parent folder in which other folders incl. results are found format:.csv' ) \n",
    "os.chdir(directory)"
   ]
  },
  {
   "cell_type": "code",
   "execution_count": 5,
   "metadata": {},
   "outputs": [],
   "source": [
    "#initialize\n",
    "WT_freq = []\n",
    "PCD_freq = []\n",
    "BAL_freq = []\n",
    "stabilized_freq = []"
   ]
  },
  {
   "cell_type": "code",
   "execution_count": 6,
   "metadata": {},
   "outputs": [
    {
     "name": "stdout",
     "output_type": "stream",
     "text": [
      "C:/Users/6182658/OneDrive - Universiteit Utrecht/Hetty movies/transfer_704412_files_333ff3a9\\BAL040 ALI_6\\STICS data\\Results\\Frequency_list.csv\n",
      "C:/Users/6182658/OneDrive - Universiteit Utrecht/Hetty movies/transfer_704412_files_333ff3a9\\HNEC0140 D DMH1 ALI_4\\STICS data\\Results\\Frequency_list.csv\n",
      "C:/Users/6182658/OneDrive - Universiteit Utrecht/Hetty movies/transfer_704412_files_333ff3a9\\HNEC0140 D DMH1 ALI_8\\STICS data\\Results\\Frequency_list.csv\n",
      "C:/Users/6182658/OneDrive - Universiteit Utrecht/Hetty movies/transfer_704412_files_333ff3a9\\HNEC0213 ALI_4\\STICS data\\Results\\Frequency_list.csv\n",
      "C:/Users/6182658/OneDrive - Universiteit Utrecht/Hetty movies/transfer_704412_files_333ff3a9\\HNEC0213 ALI_6\\STICS data\\Results\\Frequency_list.csv\n",
      "C:/Users/6182658/OneDrive - Universiteit Utrecht/Hetty movies/transfer_704412_files_333ff3a9\\HNEC0257 ALI_2\\STICS data\\Results\\Frequency_list.csv\n",
      "C:/Users/6182658/OneDrive - Universiteit Utrecht/Hetty movies/transfer_704412_files_333ff3a9\\HNEC0257 ALI_4\\STICS data\\Results\\Frequency_list.csv\n",
      "C:/Users/6182658/OneDrive - Universiteit Utrecht/Hetty movies/transfer_704412_files_333ff3a9\\PCD HNEC0253 ALI_3\\STICS data\\Results\\Frequency_list.csv\n",
      "C:/Users/6182658/OneDrive - Universiteit Utrecht/Hetty movies/transfer_704412_files_333ff3a9\\PCD HNEC0253 ALI_5\\STICS data\\Results\\Frequency_list.csv\n",
      "C:/Users/6182658/OneDrive - Universiteit Utrecht/Hetty movies/transfer_704412_files_333ff3a9\\Stablized 20201023PCDHNEC0253ALI_3\\STICS data\\Results\\Frequency_list.csv\n"
     ]
    }
   ],
   "source": [
    "#rootdir = 'C:/Users/sid/Desktop/test'\n",
    "for subdir, dirs, files in os.walk(directory):\n",
    "    for file in files:\n",
    "        if file == 'Frequency_list.csv':\n",
    "            \n",
    "            print(os.path.join(subdir, file))\n",
    "            \n",
    "            freq_file = open(os.path.join(subdir, file)) \n",
    "            line = freq_file.readline()\n",
    "            \n",
    "            for line in freq_file:\n",
    "                if 'Stabilized' in subdir:\n",
    "                    stabilized_freq.append(float(line.strip('\\n')))\n",
    "                elif 'PCD' in subdir:\n",
    "                    PCD_freq.append(float(line.strip('\\n')))     \n",
    "                elif 'BAL' in subdir:\n",
    "                    BAL_freq.append(float(line.strip('\\n')))\n",
    "                else:\n",
    "                    WT_freq.append(float(line.strip('\\n')))\n",
    "            freq_file.close()\n",
    "                "
   ]
  },
  {
   "cell_type": "code",
   "execution_count": 7,
   "metadata": {},
   "outputs": [],
   "source": [
    "# remove duplicates of exactly same frequency to avoid over-counting cells? or normalize by image width and height?"
   ]
  },
  {
   "cell_type": "code",
   "execution_count": 8,
   "metadata": {},
   "outputs": [],
   "source": [
    "if zsplit == False:\n",
    "    #data = {'patch control':  np.asarray(patch_control_freq),\n",
    "    #        'single control': np.asarray(single_control_freq),\n",
    "    #        'patch ROCK inhibitor': np.asarray(patch_ROCKinhibit_freq),\n",
    "    #        'single ROCK inhibitor': np.asarray(single_ROCKinhibit_freq),\n",
    "    #        }\n",
    "    data = {'WT':  np.asarray(WT_freq),\n",
    "            'PCD': np.asarray(PCD_freq),\n",
    "            'BAL': np.asarray(BAL_freq)\n",
    "            }\n",
    "\n",
    "    maxsize = max([a.size for a in data.values()])\n",
    "    data_pad = {k:np.pad(v, pad_width=(0,maxsize-v.size,), mode='constant', constant_values=np.nan) for k,v in data.items()}\n",
    "\n",
    "    df = pd.DataFrame(data_pad)\n",
    "\n",
    "    #df = pd.DataFrame (data=df, columns = ['patch control','single control','patch ROCK inhibitor','single ROCK inhibitor'])\n",
    "    df = pd.DataFrame (data=df, columns = ['WT','PCD','BAL'])\n",
    "\n",
    "    #print (df)"
   ]
  },
  {
   "cell_type": "code",
   "execution_count": 9,
   "metadata": {},
   "outputs": [],
   "source": [
    "if zsplit == True:\n",
    "\n",
    "    data = {'WT':  np.asarray(WT_freq),\n",
    "            'PCD': np.asarray(PCD_freq),\n",
    "            'BAL': np.asarray(BAL_freq),\n",
    "            }\n",
    "\n",
    "    maxsize = max([a.size for a in data.values()])\n",
    "    data_pad = {k:np.pad(v, pad_width=(0,maxsize-v.size,), mode='constant', constant_values=np.nan) for k,v in data.items()}\n",
    "\n",
    "    df = pd.DataFrame(data_pad)\n",
    "\n",
    "    #df = pd.DataFrame (data=df, columns = ['patch control','single control','patch ROCK inhibitor','single ROCK inhibitor'])\n",
    "    df = pd.DataFrame (data=df, columns = ['WT','PCD','BAL'])\n",
    "\n",
    "    #print (df)"
   ]
  },
  {
   "cell_type": "code",
   "execution_count": 11,
   "metadata": {},
   "outputs": [
    {
     "data": {
      "image/png": "[encoded data removed]",
      "text/plain": [
       "<Figure size 432x288 with 1 Axes>"
      ]
     },
     "metadata": {
      "needs_background": "light"
     },
     "output_type": "display_data"
    }
   ],
   "source": [
    "if zplot == True:\n",
    "    plt.figure() #(figsize=(12,5))\n",
    "    sns.violinplot(data=df, inner=\"points\", orient=\"v\")\n",
    "    #b = sns.swarmplot(data = df, color = \"w\", orient=\"v\", dodge = True, size = 5)\n",
    "    b = sns.swarmplot(data = df, color = \"b\", orient=\"v\", dodge = True) #, size = 5)\n",
    "    #b.axes.set_title(\"Title\",fontsize=20)\n",
    "    #b.set_xlabel(\"Control (patch)\",fontsize=16)\n",
    "    b.set_ylabel(\"Frequency (Hz)\",fontsize=16)\n",
    "    b.tick_params(labelsize=16)\n",
    "    plt.tight_layout()\n",
    "    \n",
    "    # save fig\n",
    "    if zsave == True:\n",
    "        #script_dir = os.path.abspath('..') #os.path.dirname('..')\n",
    "        results_dir = os.path.join(directory, 'Results/')\n",
    "        file_name = 'CBF_distribution_violin_{}.png'.format(dt.datetime.now().strftime('%Y%m%d%H%M%S'))\n",
    "        if not os.path.isdir(results_dir):    \n",
    "            os.makedirs(results_dir)\n",
    "        plt.savefig(results_dir + file_name,dpi=130)\n",
    "        \n",
    "    plt.show()"
   ]
  },
  {
   "cell_type": "code",
   "execution_count": null,
   "metadata": {},
   "outputs": [],
   "source": []
  },
  {
   "cell_type": "code",
   "execution_count": 12,
   "metadata": {},
   "outputs": [
    {
     "data": {
      "image/png": "[encoded data removed]",
      "text/plain": [
       "<Figure size 720x720 with 1 Axes>"
      ]
     },
     "metadata": {
      "needs_background": "light"
     },
     "output_type": "display_data"
    }
   ],
   "source": [
    "if zplot == True:\n",
    "    #%matplotlib inline\n",
    "\n",
    "    #plot of frequencies\n",
    "    fig, ax = plt.subplots(nrows=1, ncols=1, figsize=(10, 10))\n",
    "    #ax.plot(x,y, 'ko')\n",
    "    #ax.set_ylim(-1,1)\n",
    "    ax.set_title(\"Distribution of WT CBFs\", fontsize=12)\n",
    "    ax.set_ylabel(\"Count\", fontsize=12)\n",
    "    ax.set_xlabel(\"CBF (Hz)\", fontsize=12)\n",
    "    \n",
    "    plt.hist(WT_freq)\n",
    "    plt.tight_layout()\n",
    "\n",
    "    # save fig\n",
    "    if zsave == True:\n",
    "        #script_dir = os.path.abspath('..') #os.path.dirname('..')\n",
    "        results_dir = os.path.join(directory, 'Results/')\n",
    "        file_name = 'CBF_distribution_histogram{}.png'.format(dt.datetime.now().strftime('%Y%m%d%H%M%S'))\n",
    "        if not os.path.isdir(results_dir):    \n",
    "            os.makedirs(results_dir)\n",
    "        plt.savefig(results_dir + file_name,dpi=130)\n",
    "        \n",
    "    plt.show()"
   ]
  },
  {
   "cell_type": "code",
   "execution_count": null,
   "metadata": {},
   "outputs": [],
   "source": []
  }
 ],
 "metadata": {
  "kernelspec": {
   "display_name": "Python 3",
   "language": "python",
   "name": "python3"
  },
  "language_info": {
   "codemirror_mode": {
    "name": "ipython",
    "version": 3
   },
   "file_extension": ".py",
   "mimetype": "text/x-python",
   "name": "python",
   "nbconvert_exporter": "python",
   "pygments_lexer": "ipython3",
   "version": "3.7.4"
  }
 },
 "nbformat": 4,
 "nbformat_minor": 4
}

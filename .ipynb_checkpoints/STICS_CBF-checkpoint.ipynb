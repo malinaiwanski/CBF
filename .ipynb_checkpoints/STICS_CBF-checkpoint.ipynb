{
 "cells": [
  {
   "cell_type": "code",
   "execution_count": null,
   "metadata": {},
   "outputs": [],
   "source": [
    "# imports\n",
    "import numpy as np\n",
    "\n",
    "import sys as sys\n",
    "import os\n",
    "import tkinter as tk\n",
    "from tkinter import filedialog\n",
    "\n",
    "import matplotlib.pylab as plt\n",
    "import time\n",
    "\n",
    "from ij import IJ"
   ]
  },
  {
   "cell_type": "code",
   "execution_count": null,
   "metadata": {},
   "outputs": [],
   "source": [
    "# options\n",
    "zsave = False"
   ]
  },
  {
   "cell_type": "code",
   "execution_count": null,
   "metadata": {},
   "outputs": [],
   "source": [
    "# function for debugging\n",
    "def pause():\n",
    "    programPause = input('Press <ENTER> to continue.')"
   ]
  },
  {
   "cell_type": "code",
   "execution_count": null,
   "metadata": {},
   "outputs": [],
   "source": [
    "root = tk.Tk()\n",
    "root.withdraw()\n",
    "\n",
    "raw = filedialog.askopenfilename(title = 'Choose image file to process:.tif' )\n",
    "\n",
    "basename = str(os.path.basename(raw))\n",
    "savename = basename[:-4]\n",
    "print (savename)\n",
    "os.chdir(os.path.dirname(raw))   #set your working directoryimport os"
   ]
  },
  {
   "cell_type": "code",
   "execution_count": null,
   "metadata": {},
   "outputs": [],
   "source": [
    "from skimage import io\n",
    "\n",
    "# Read a single multidimensional TIF file, in this case a single channel with multiple timepoints.\n",
    "c1 = io.imread('./assets/bbbc034v1/AICS_12_134_C=1.tif')\n",
    "\n",
    "# Confirm that this image is in fact a numpy array\n",
    "display(type(c1))\n",
    "\n",
    "# Metadata for future use later\n",
    "x_pixel_size = 65  # nm\n",
    "y_pixel_size = 65  # nm\n",
    "avg_delta_t = 10  # ms\n",
    "\n",
    "image_size = c1.shape\n",
    "print(image_size)\n",
    "bit_depth = c1.dtype\n",
    "print(bit_depth)"
   ]
  },
  {
   "cell_type": "code",
   "execution_count": null,
   "metadata": {},
   "outputs": [],
   "source": []
  },
  {
   "cell_type": "code",
   "execution_count": null,
   "metadata": {},
   "outputs": [],
   "source": [
    "# Save our multicolour stack to a new ImageJ-compatible TIF file\n",
    "# tifffile wants our array to be in TZCYXS order for imageJ compatibility\n",
    "\n",
    "io.imsave('./assets/bbbc034v1/AICS_12_134_C=all.tif',\n",
    "          np.moveaxis(my4DArray,-1,1),\n",
    "          imagej=True,\n",
    "          resolution=(1/x_pixel_size,1/y_pixel_size),\n",
    "          metadata={'spacing':z_pixel_size,'unit':'nm'})"
   ]
  }
 ],
 "metadata": {
  "kernelspec": {
   "display_name": "Python 3",
   "language": "python",
   "name": "python3"
  },
  "language_info": {
   "codemirror_mode": {
    "name": "ipython",
    "version": 3
   },
   "file_extension": ".py",
   "mimetype": "text/x-python",
   "name": "python",
   "nbconvert_exporter": "python",
   "pygments_lexer": "ipython3",
   "version": "3.7.4"
  }
 },
 "nbformat": 4,
 "nbformat_minor": 4
}

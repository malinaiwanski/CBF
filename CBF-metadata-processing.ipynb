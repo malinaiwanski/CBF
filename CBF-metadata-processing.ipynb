{
 "cells": [
  {
   "cell_type": "code",
   "execution_count": 2,
   "metadata": {},
   "outputs": [],
   "source": [
    "# imports\n",
    "import numpy as np\n",
    "\n",
    "import sys as sys\n",
    "import os\n",
    "import tkinter as tk\n",
    "from tkinter import filedialog\n",
    "\n",
    "import matplotlib.pylab as plt\n",
    "import time"
   ]
  },
  {
   "cell_type": "code",
   "execution_count": 3,
   "metadata": {},
   "outputs": [],
   "source": [
    "# options\n",
    "zsave = False"
   ]
  },
  {
   "cell_type": "code",
   "execution_count": 4,
   "metadata": {},
   "outputs": [],
   "source": [
    "# function for debugging\n",
    "def pause():\n",
    "    programPause = input('Press <ENTER> to continue.')"
   ]
  },
  {
   "cell_type": "code",
   "execution_count": 5,
   "metadata": {},
   "outputs": [
    {
     "name": "stdout",
     "output_type": "stream",
     "text": [
      "metadata\n"
     ]
    }
   ],
   "source": [
    "root = tk.Tk()\n",
    "root.withdraw()\n",
    "\n",
    "raw = filedialog.askopenfilename(title = 'Choose metadata file to process:.csv' )\n",
    "\n",
    "basename = str(os.path.basename(raw))\n",
    "savename = basename[:-4]\n",
    "print (savename)\n",
    "os.chdir(os.path.dirname(raw))   #set your working directoryimport os"
   ]
  },
  {
   "cell_type": "code",
   "execution_count": 6,
   "metadata": {},
   "outputs": [
    {
     "name": "stdout",
     "output_type": "stream",
     "text": [
      "Found 1000 timestamps\n"
     ]
    }
   ],
   "source": [
    "string_to_find = 'TimeStampMsec'\n",
    "\n",
    "line_num = 0\n",
    "timestamps_str = []\n",
    "try:\n",
    "    with open(basename, 'r') as read_obj:\n",
    "        for line in read_obj:\n",
    "            line_num += 1\n",
    "            if string_to_find in line:\n",
    "                timestamps_str.append(line.rstrip())\n",
    "                #timestamps.append((line_num, line.rstrip()))\n",
    "    print('Found ' + str(len(timestamps_str)) + ' timestamps')\n",
    "except IOError:\n",
    "    print('Could not find timestamps in metadata')\n",
    "    sys.exit(1)\n"
   ]
  },
  {
   "cell_type": "code",
   "execution_count": 7,
   "metadata": {},
   "outputs": [],
   "source": [
    "timestamps = []\n",
    "for timestamp in timestamps_str:\n",
    "    num_timestamp = ''.join(c for c in timestamp if (c.isdigit() or c =='.'))\n",
    "    timestamps.append(float(num_timestamp))"
   ]
  },
  {
   "cell_type": "code",
   "execution_count": 9,
   "metadata": {},
   "outputs": [
    {
     "name": "stdout",
     "output_type": "stream",
     "text": [
      "mean frame time: 16.15107099286787msec\n"
     ]
    },
    {
     "data": {
      "image/png": "[encoded data removed]",
      "text/plain": [
       "<Figure size 360x288 with 1 Axes>"
      ]
     },
     "metadata": {
      "needs_background": "light"
     },
     "output_type": "display_data"
    }
   ],
   "source": [
    "frame_times = [t - s for s, t in zip(timestamps, timestamps[1:])]\n",
    "\n",
    "print(\"mean frame time: \" + str(sum(frame_times)/len(frame_times)) + \"msec\")\n",
    "\n",
    "#plot run length histogram\n",
    "fig, ax = plt.subplots(1,1, figsize=(5, 4))\n",
    "ax.hist(frame_times, density=False)\n",
    "ax.set_title(\"Frame times\", fontsize=12)\n",
    "ax.set_ylabel(\"Count\", fontsize=12)\n",
    "ax.set_xlabel(\"Frame time (msec)\", fontsize=12)\n",
    "plt.tight_layout()\n",
    "# save fig\n",
    "if zsave == True:\n",
    "    script_dir = os.path.abspath('..') #os.path.dirname('..')\n",
    "    results_dir = os.path.join(script_dir, 'Results/')\n",
    "    file_name = 'FrameTimes{}.png'.format(dt.datetime.now().strftime('%Y%m%d%H%M%S'))\n",
    "    if not os.path.isdir(results_dir):    \n",
    "        os.makedirs(results_dir)\n",
    "    plt.savefig(results_dir + file_name)\n",
    "plt.show()"
   ]
  },
  {
   "cell_type": "code",
   "execution_count": null,
   "metadata": {},
   "outputs": [],
   "source": []
  }
 ],
 "metadata": {
  "kernelspec": {
   "display_name": "Python 3",
   "language": "python",
   "name": "python3"
  },
  "language_info": {
   "codemirror_mode": {
    "name": "ipython",
    "version": 3
   },
   "file_extension": ".py",
   "mimetype": "text/x-python",
   "name": "python",
   "nbconvert_exporter": "python",
   "pygments_lexer": "ipython3",
   "version": "3.7.4"
  }
 },
 "nbformat": 4,
 "nbformat_minor": 4
}

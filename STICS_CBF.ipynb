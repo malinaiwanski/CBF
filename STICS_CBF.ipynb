{
 "cells": [
  {
   "cell_type": "code",
   "execution_count": 1,
   "metadata": {},
   "outputs": [],
   "source": [
    "# imports\n",
    "import numpy as np\n",
    "import math\n",
    "\n",
    "import sys as sys\n",
    "import os\n",
    "import tkinter as tk\n",
    "from tkinter import filedialog\n",
    "\n",
    "import matplotlib as mpl\n",
    "import matplotlib.pyplot as plt\n",
    "import pylab as plb\n",
    "\n",
    "from skimage import io\n",
    "from scipy.signal import argrelextrema, savgol_filter\n",
    "from scipy.optimize import curve_fit\n",
    "from scipy import exp\n",
    "from astropy import modeling\n",
    "#import warnings\n",
    "#from scipy.optimize import OptimizeWarning\n",
    "\n",
    "import time\n",
    "import datetime as dt\n",
    "import csv\n",
    "\n",
    "%matplotlib inline"
   ]
  },
  {
   "cell_type": "code",
   "execution_count": 2,
   "metadata": {},
   "outputs": [],
   "source": [
    "# options\n",
    "zsave = True\n",
    "zplot = True\n",
    "zallplot = False"
   ]
  },
  {
   "cell_type": "code",
   "execution_count": 3,
   "metadata": {},
   "outputs": [
    {
     "name": "stdin",
     "output_type": "stream",
     "text": [
      "Enter average frame time (from other code) in msec:  14.0618617\n"
     ]
    },
    {
     "name": "stdout",
     "output_type": "stream",
     "text": [
      "average frame time: 14.0618617 msec\n"
     ]
    },
    {
     "name": "stdin",
     "output_type": "stream",
     "text": [
      "Enter size of image in x (width) in pixels:  235\n"
     ]
    },
    {
     "name": "stdout",
     "output_type": "stream",
     "text": [
      "width of image: 235 pixels\n"
     ]
    },
    {
     "name": "stdin",
     "output_type": "stream",
     "text": [
      "Enter size of image in y (height) in pixels:  152\n"
     ]
    },
    {
     "name": "stdout",
     "output_type": "stream",
     "text": [
      "height of image: 152 pixels\n"
     ]
    }
   ],
   "source": [
    "# metadata\n",
    "x_pixel_size = 0.116  # um\n",
    "y_pixel_size = 0.116  # um\n",
    "avg_delta_t = input('Enter average frame time (from other code) in msec: ') # ms - get this by running the appropriate code on the corresponding metadata!\n",
    "try:\n",
    "    avg_delta_t = float(avg_delta_t)\n",
    "    print('average frame time: {0} msec'.format(avg_delta_t))\n",
    "except ValueError:\n",
    "    print('Please enter a valid number')\n",
    "\n",
    "num_px_x = input('Enter size of image in x (width) in pixels: ') # pixels\n",
    "try:\n",
    "    num_px_x = int(num_px_x)\n",
    "    print('width of image: {0} pixels'.format(num_px_x))\n",
    "except ValueError:\n",
    "    print('Please enter a valid number')\n",
    "num_px_y = input('Enter size of image in y (height) in pixels: ') # pixels\n",
    "try:\n",
    "    num_px_y = int(num_px_y)\n",
    "    print('height of image: {0} pixels'.format(num_px_y))\n",
    "except ValueError:\n",
    "    print('Please enter a valid number')\n",
    "min_cycle_length = 2 #5 # frames\n",
    "max_cycle_length = 50 # frames; must be less than or equal number used in Fiji script\n",
    "roi_size = 15 # pixels; must match that used in Fiji script\n",
    "\n",
    "correlation_threshold = 0.05 #0.02 #"
   ]
  },
  {
   "cell_type": "code",
   "execution_count": 4,
   "metadata": {},
   "outputs": [],
   "source": [
    "# function for debugging\n",
    "def pause():\n",
    "    programPause = input('Press <ENTER> to continue.')"
   ]
  },
  {
   "cell_type": "code",
   "execution_count": 5,
   "metadata": {},
   "outputs": [],
   "source": [
    "root = tk.Tk()\n",
    "root.withdraw()\n",
    "\n",
    "directory = filedialog.askdirectory(title = 'choose folder with STICS data set format:.csv' ) \n",
    "os.chdir(directory)"
   ]
  },
  {
   "cell_type": "code",
   "execution_count": 6,
   "metadata": {},
   "outputs": [],
   "source": [
    "# initialize\n",
    "image_stack = np.empty(shape=(num_px_y,num_px_x))\n",
    "#print(image_stack.shape)\n",
    "\n",
    "period_map = np.zeros(shape=(num_px_y,num_px_x))\n",
    "frequency_map = np.zeros(shape=(num_px_y,num_px_x))\n",
    "\n",
    "frequency_list = []\n"
   ]
  },
  {
   "cell_type": "code",
   "execution_count": 7,
   "metadata": {},
   "outputs": [],
   "source": [
    "def zslice_identifier(x):\n",
    "    #print(x[-15:-10])\n",
    "    return(x[-15:-10])\n",
    "    #return(x[-1:-5]) #for Hetty movies"
   ]
  },
  {
   "cell_type": "code",
   "execution_count": 8,
   "metadata": {},
   "outputs": [
    {
     "name": "stdout",
     "output_type": "stream",
     "text": [
      "Pos0Pos0_STICS_map_c00_z0000_t0000.tif\n",
      "Pos0Pos0_STICS_map_c00_z0001_t0000.tif\n",
      "Pos0Pos0_STICS_map_c00_z0002_t0000.tif\n",
      "Pos0Pos0_STICS_map_c00_z0003_t0000.tif\n",
      "Pos0Pos0_STICS_map_c00_z0004_t0000.tif\n",
      "Pos0Pos0_STICS_map_c00_z0005_t0000.tif\n",
      "Pos0Pos0_STICS_map_c00_z0006_t0000.tif\n",
      "Pos0Pos0_STICS_map_c00_z0007_t0000.tif\n",
      "Pos0Pos0_STICS_map_c00_z0008_t0000.tif\n",
      "Pos0Pos0_STICS_map_c00_z0009_t0000.tif\n",
      "Pos0Pos0_STICS_map_c00_z0010_t0000.tif\n",
      "Pos0Pos0_STICS_map_c00_z0011_t0000.tif\n",
      "Pos0Pos0_STICS_map_c00_z0012_t0000.tif\n",
      "Pos0Pos0_STICS_map_c00_z0013_t0000.tif\n",
      "Pos0Pos0_STICS_map_c00_z0014_t0000.tif\n",
      "Pos0Pos0_STICS_map_c00_z0015_t0000.tif\n",
      "Pos0Pos0_STICS_map_c00_z0016_t0000.tif\n",
      "Pos0Pos0_STICS_map_c00_z0017_t0000.tif\n",
      "Pos0Pos0_STICS_map_c00_z0018_t0000.tif\n",
      "Pos0Pos0_STICS_map_c00_z0019_t0000.tif\n",
      "Pos0Pos0_STICS_map_c00_z0020_t0000.tif\n",
      "Pos0Pos0_STICS_map_c00_z0021_t0000.tif\n",
      "Pos0Pos0_STICS_map_c00_z0022_t0000.tif\n",
      "Pos0Pos0_STICS_map_c00_z0023_t0000.tif\n",
      "Pos0Pos0_STICS_map_c00_z0024_t0000.tif\n",
      "Pos0Pos0_STICS_map_c00_z0025_t0000.tif\n",
      "Pos0Pos0_STICS_map_c00_z0026_t0000.tif\n",
      "Pos0Pos0_STICS_map_c00_z0027_t0000.tif\n",
      "Pos0Pos0_STICS_map_c00_z0028_t0000.tif\n",
      "Pos0Pos0_STICS_map_c00_z0029_t0000.tif\n",
      "Pos0Pos0_STICS_map_c00_z0030_t0000.tif\n",
      "Pos0Pos0_STICS_map_c00_z0031_t0000.tif\n",
      "Pos0Pos0_STICS_map_c00_z0032_t0000.tif\n",
      "Pos0Pos0_STICS_map_c00_z0033_t0000.tif\n",
      "Pos0Pos0_STICS_map_c00_z0034_t0000.tif\n",
      "Pos0Pos0_STICS_map_c00_z0035_t0000.tif\n",
      "Pos0Pos0_STICS_map_c00_z0036_t0000.tif\n",
      "Pos0Pos0_STICS_map_c00_z0037_t0000.tif\n",
      "Pos0Pos0_STICS_map_c00_z0038_t0000.tif\n",
      "Pos0Pos0_STICS_map_c00_z0039_t0000.tif\n",
      "Pos0Pos0_STICS_map_c00_z0040_t0000.tif\n",
      "Pos0Pos0_STICS_map_c00_z0041_t0000.tif\n",
      "Pos0Pos0_STICS_map_c00_z0042_t0000.tif\n",
      "Pos0Pos0_STICS_map_c00_z0043_t0000.tif\n",
      "Pos0Pos0_STICS_map_c00_z0044_t0000.tif\n",
      "Pos0Pos0_STICS_map_c00_z0045_t0000.tif\n",
      "Pos0Pos0_STICS_map_c00_z0046_t0000.tif\n",
      "Pos0Pos0_STICS_map_c00_z0047_t0000.tif\n",
      "Pos0Pos0_STICS_map_c00_z0048_t0000.tif\n",
      "Pos0Pos0_STICS_map_c00_z0049_t0000.tif\n",
      "(152, 235, 51)\n"
     ]
    }
   ],
   "source": [
    "num_files = 0\n",
    "all_files = os.listdir(directory)\n",
    "\n",
    "for filename in sorted(all_files, key = zslice_identifier):\n",
    "    \n",
    "    if filename.endswith(\".tif\"):\n",
    "        print(filename)\n",
    "        num_files += 1\n",
    "        temp_img = io.imread(filename)\n",
    "        \n",
    "        #imgplot = plt.imshow(temp_img)\n",
    "        #plt.show()\n",
    "        \n",
    "        #check image properties\n",
    "        image_size = temp_img.shape\n",
    "        bit_depth = temp_img.dtype\n",
    "        \n",
    "        image_stack=np.dstack((image_stack, temp_img))\n",
    "        \n",
    "    #os.close(filename)\n",
    "        \n",
    "if num_files != max_cycle_length:\n",
    "    print(\"Verify input metadata!\")\n",
    "    \n",
    "print(image_stack.shape)"
   ]
  },
  {
   "cell_type": "code",
   "execution_count": 9,
   "metadata": {},
   "outputs": [],
   "source": [
    "def find_nearest_two_val(array, value):\n",
    "    array = np.asarray(array)\n",
    "    idx = []\n",
    "    \n",
    "    idx.append((np.abs(array - value)).argmin())\n",
    "    temp_array = np.empty_like(array)\n",
    "    temp_array[:] = array\n",
    "    temp_array[idx[0]] = 100000 #ignore this index\n",
    "    idx.append((np.abs(temp_array - value)).argmin())\n",
    "    round_num = 0\n",
    "    test_val = (array[idx[0]]-value)*(array[idx[1]]-value)\n",
    "    while test_val > 0:\n",
    "        if round_num > 10:\n",
    "            return idx[0]\n",
    "        else:\n",
    "            temp_array[idx[1]] = 100000 #ignore this index\n",
    "            idx[1] = (np.abs(temp_array - value)).argmin()\n",
    "            test_val = (array[idx[0]]-value)*(array[idx[1]]-value)\n",
    "            round_num += 1\n",
    "    return sorted(idx)"
   ]
  },
  {
   "cell_type": "code",
   "execution_count": 10,
   "metadata": {},
   "outputs": [
    {
     "name": "stderr",
     "output_type": "stream",
     "text": [
      "WARNING: The fit may be unsuccessful; check fit_info['message'] for more information. [astropy.modeling.fitting]\n"
     ]
    },
    {
     "name": "stdout",
     "output_type": "stream",
     "text": [
      "done fitting\n"
     ]
    }
   ],
   "source": [
    "for i in range(0,num_px_x):\n",
    "    for j in range(0,num_px_y):\n",
    "        delta_t = []\n",
    "        correlation = []\n",
    "        for k in range(0,max_cycle_length):\n",
    "            delta_t.append(k)\n",
    "            correlation.append(image_stack[j,i,k])\n",
    "            \n",
    "            if k == max_cycle_length-1:\n",
    "                \n",
    "                delta_t = np.array(delta_t)\n",
    "                correlation = np.array(correlation)\n",
    "                \n",
    "                correlation[np.isnan(correlation)] = 0\n",
    "                correlation[np.isinf(correlation)] = 1\n",
    "                #correlation[-np.isinf(correlation)] = -1\n",
    "                \n",
    "                #window length for savitzky-golay filter must be odd, so round up 1 if min_cycle_length is even\n",
    "                if (min_cycle_length % 2) == 0:\n",
    "                    window_length = min_cycle_length + 1\n",
    "                else:\n",
    "                    window_length = min_cycle_length\n",
    "                \n",
    "                #print(correlation)\n",
    "\n",
    "                filt_correlation = savgol_filter(correlation, window_length, 1) #min_cycle_length defines window size, polynomial order 3\n",
    "                \n",
    "                if correlation[correlation > correlation_threshold].size > 3:\n",
    "                    local_min_ind = argrelextrema(filt_correlation,np.less)[0]\n",
    "                    #local_min_ind = local_min_ind[0]#[local_min_ind[0] > min_cycle_length] #ignore first few frames\n",
    "                    local_max_ind = argrelextrema(filt_correlation,np.greater)\n",
    "                    local_max_ind = local_max_ind[0][local_max_ind[0] > min_cycle_length] #ignore first few frames\n",
    "                    local_max_ind = local_max_ind[local_max_ind > correlation_threshold] #ensure maxima are large enough\n",
    "                    approx_max_ind = local_max_ind[0] #delta_t[filt_correlation==np.amax(filt_correlation[local_max_ind])]\n",
    "                    ind_of_ind = find_nearest_two_val(local_min_ind, approx_max_ind)\n",
    "                    \n",
    "                    if type(ind_of_ind) != np.int64: #two valid minima found\n",
    "                        minima_for_fit = [local_min_ind[ind_of_ind[0]]+1,local_min_ind[ind_of_ind[1]]-1]\n",
    "\n",
    "                        if correlation[approx_max_ind] > correlation_threshold:\n",
    "                            x = np.empty_like(delta_t[minima_for_fit[0]:minima_for_fit[1]])\n",
    "                            x[:] = delta_t[minima_for_fit[0]:minima_for_fit[1]]\n",
    "                            y = np.empty_like(correlation[minima_for_fit[0]:minima_for_fit[1]])\n",
    "                            y[:] = correlation[minima_for_fit[0]:minima_for_fit[1]]\n",
    "                            \n",
    "                            if len(x) > min_cycle_length: #proceed with fit only if sufficient temporal resolution\n",
    "                                \n",
    "                                #remove offset\n",
    "                                offset = y.min()\n",
    "                                y-=offset\n",
    "\n",
    "                                fitter = modeling.fitting.LevMarLSQFitter()\n",
    "                                initial_gaussian = modeling.models.Gaussian1D(amplitude= max(y), mean=approx_max_ind, stddev=min_cycle_length/2) #approx_max_ind-minima_for_fit[0])   # initial guess\n",
    "                                #print(initial_gaussian)\n",
    "                                #print(x)\n",
    "                                #print(y)\n",
    "                                fitted_gaussian = fitter(initial_gaussian, x, y)\n",
    "                                #parameters are amplitude, mean, stddev\n",
    "                                #mean is cycle duration of one period in frames as it gives you the first peak after delta_t=0 (image correlated with itself) and hence how long it takes to look most like the original image again\n",
    "                                period = 0\n",
    "                                period = fitted_gaussian.parameters[1]\n",
    "\n",
    "    #                            popt = gaussian_fit(x,y, correlation_threshold, min_cycle_length)\n",
    "    #                            if type(popt) != str:\n",
    "                                    #popt is parameters of gaussian: popt[0] is offset, popt[1] is amplitude, popt[2] is mean, popt[3] is sigma\n",
    "                                    #mean is cycle duration of one period in frames as it gives you the first peak after delta_t=0 (image correlated with itself) and hence how long it takes to look most like the original image again\n",
    "    #                                period = 0\n",
    "    #                                period = popt[2] # in frames\n",
    "    #                                frequency = 0;\n",
    "    #                                frequency = 1/(period*(avg_delta_t/1000)) # converted to Hz\n",
    "    #                                period_map[j-round(roi_size/2):j+round(roi_size/2),i-round(roi_size/2):i+round(roi_size/2)] = period\n",
    "    #                                frequency_map[j-round(roi_size/2):j+round(roi_size/2),i-round(roi_size/2):i+round(roi_size/2)] = frequency\n",
    "\n",
    "                                frequency = 0;\n",
    "                                frequency = 1/(period*(avg_delta_t/1000)) # converted to Hz\n",
    "                                period_map[j-round(roi_size/2):j+round(roi_size/2),i-round(roi_size/2):i+round(roi_size/2)] = period\n",
    "                                frequency_map[j-round(roi_size/2):j+round(roi_size/2),i-round(roi_size/2):i+round(roi_size/2)] = frequency\n",
    "\n",
    "                                frequency_list.append(frequency)\n",
    "\n",
    "                                if zallplot == True:\n",
    "                                    #%matplotlib inline\n",
    "\n",
    "                                    #plot of frequencies\n",
    "                                    fig, ax = plt.subplots(nrows=1, ncols=1, figsize=(10, 10))\n",
    "\n",
    "                                    ax.plot(delta_t, correlation, color='blue', linestyle='dashed',linewidth=2, markersize=12)   \n",
    "                                    ax.plot(delta_t, filt_correlation, color='red', linestyle='dashed',linewidth=2, markersize=12)\n",
    "                                    ax.plot(delta_t[minima_for_fit], filt_correlation[minima_for_fit], 'rx')\n",
    "                                    ax.plot(delta_t[approx_max_ind], filt_correlation[approx_max_ind], 'bx')\n",
    "                                    ax.plot(delta_t[local_min_ind], filt_correlation[local_min_ind], 'rd')\n",
    "                                    ax.plot(delta_t[local_max_ind], filt_correlation[local_max_ind], 'bd')\n",
    "\n",
    "    #                                if type(popt) != str:\n",
    "    #                                    plot_x = np.linspace(x[0],x[-1], 200)\n",
    "                                        #ax.plot(plot_x, offset+gaussian(plot_x, popt[0], popt[1], popt[2], popt[3]), color='black', linestyle='solid',linewidth=2, markersize=12)\n",
    "                                        #ax.plot(plot_x, offset+gaussian(plot_x, popt[0], popt[1], popt[2]), color='black', linestyle='solid',linewidth=2, markersize=12)\n",
    "                                        #ax.plot(plot_x, gaussian(plot_x, popt[0], popt[1], popt[2]), color='black', linestyle='solid',linewidth=2, markersize=12)\n",
    "    #                                    ax.plot(plot_x, gaussian(plot_x, popt[0], popt[1], popt[2], popt[3]), color='black', linestyle='solid',linewidth=2, markersize=12)\n",
    "\n",
    "                                    plot_x = np.linspace(x[0],x[-1], 200)\n",
    "                                    ax.plot(plot_x, offset+fitted_gaussian(plot_x), color='black', linestyle='solid',linewidth=2, markersize=12)\n",
    "                                    ax.plot(fitted_gaussian.parameters[1], 0, 'kx')\n",
    "\n",
    "                                    ax.set_ylim(-1,1)\n",
    "                                    ax.set_title(\"Correlation in ROI\", fontsize=12)\n",
    "                                    ax.set_ylabel(\"Correlation\", fontsize=12)\n",
    "                                    ax.set_xlabel(\"Time lag\", fontsize=12)\n",
    "\n",
    "                                    plt.tight_layout()\n",
    "\n",
    "\n",
    "                                    # save fig\n",
    "                                    if zsave == True:\n",
    "                                        #script_dir = os.path.abspath('..') #os.path.dirname('..')\n",
    "                                        results_dir = os.path.join(directory, 'Results/')\n",
    "                                        file_name = 'Fitted_z-profile_correlation_{}_{}_{}.png'.format(i,j,dt.datetime.now().strftime('%Y%m%d%H%M%S'))\n",
    "                                        if not os.path.isdir(results_dir):    \n",
    "                                            os.makedirs(results_dir)\n",
    "                                        plt.savefig(results_dir + file_name,dpi=130)\n",
    "                                    plt.show()\n",
    "\n",
    "                                #print(\"amplitude: \" + str(fitted_gaussian.parameters[0]))\n",
    "                                #print(\"mean: \" + str(fitted_gaussian.parameters[1]))\n",
    "                                #print(\"standard deviation: \" + str(fitted_gaussian.parameters[2]))\n",
    "\n",
    "print('done fitting')"
   ]
  },
  {
   "cell_type": "code",
   "execution_count": 11,
   "metadata": {},
   "outputs": [
    {
     "data": {
      "image/png": "[encoded data removed]",
      "text/plain": [
       "<Figure size 576x372.562 with 2 Axes>"
      ]
     },
     "metadata": {
      "needs_background": "light"
     },
     "output_type": "display_data"
    }
   ],
   "source": [
    "if zplot == True:\n",
    "    \n",
    "    #%matplotlib inline\n",
    "\n",
    "    #plot of frequencies\n",
    "    img_height = 8\n",
    "    img_width = img_height*num_px_y/num_px_x\n",
    "    fig, ax = plt.subplots(nrows=1, ncols=1, figsize=(img_height, img_width))\n",
    "    \n",
    "    #print(np.nanmin(frequency_map))\n",
    "    #print(np.nanmax(frequency_map))\n",
    "    #color_lim = (np.amin(frequency_map),np.amax(frequency_map))\n",
    "    color_lim = (np.nanmin(frequency_map),np.nanmax(frequency_map))\n",
    "\n",
    "    ax.imshow(frequency_map, cmap='viridis', aspect='auto', interpolation='nearest',clim=(color_lim[0],color_lim[1]))\n",
    "    ax.set_title(\"Frequencies across image [Hz]\", fontsize=12)\n",
    "    ax.set_ylabel(\"y\", fontsize=12)\n",
    "    ax.set_xlabel(\"x\", fontsize=12)\n",
    "    pcm = ax.pcolormesh(frequency_map,norm = mpl.colors.Normalize(vmin=color_lim[0],vmax=color_lim[1]),cmap='viridis')\n",
    "    fig.colorbar(pcm, ax=ax)\n",
    "\n",
    "    plt.tight_layout()\n",
    "\n",
    "    # save fig\n",
    "    if zsave == True:\n",
    "        #script_dir = os.path.abspath('..') #os.path.dirname('..')\n",
    "        results_dir = os.path.join(directory, 'Results/')\n",
    "        file_name = 'Frequency_map_{}.png'.format(dt.datetime.now().strftime('%Y%m%d%H%M%S'))\n",
    "        if not os.path.isdir(results_dir):    \n",
    "            os.makedirs(results_dir)\n",
    "        plt.savefig(results_dir + file_name,dpi=130)\n",
    "\n",
    "    plt.show()"
   ]
  },
  {
   "cell_type": "code",
   "execution_count": 12,
   "metadata": {},
   "outputs": [],
   "source": [
    "if zsave == True:\n",
    "    \n",
    "    #save_freq = np.empty_like(frequency_map.ravel()[np.flatnonzero(frequency_map)])\n",
    "    #save_freq[:] = frequency_map.ravel()[np.flatnonzero(frequency_map)]\n",
    "    save_freq = np.asarray(frequency_list)\n",
    "    \n",
    "    results_dir = os.path.join(directory, 'Results/')\n",
    "    #file_name = 'Frequency_list_{}.csv'.format(dt.datetime.now().strftime('%Y%m%d%H%M%S'))\n",
    "    file_name = 'Frequency_list.csv'\n",
    "    if not os.path.isdir(results_dir):    \n",
    "        os.makedirs(results_dir)\n",
    "    \n",
    "    np.savetxt(results_dir + file_name, save_freq, delimiter=',', newline='\\n', fmt='%f')\n",
    "    \n",
    "    #writer= csv.writer(results_dir+file_name, delimiter=',')\n",
    "    #for x in np.nditer(save_freq.T, order='C'): \n",
    "    #    row.append(str(x))\n",
    "    #    writer.writerow(row)"
   ]
  },
  {
   "cell_type": "code",
   "execution_count": 13,
   "metadata": {},
   "outputs": [
    {
     "name": "stdout",
     "output_type": "stream",
     "text": [
      "done\n"
     ]
    }
   ],
   "source": [
    "print('done')"
   ]
  },
  {
   "cell_type": "code",
   "execution_count": null,
   "metadata": {},
   "outputs": [],
   "source": []
  },
  {
   "cell_type": "code",
   "execution_count": null,
   "metadata": {},
   "outputs": [],
   "source": []
  },
  {
   "cell_type": "code",
   "execution_count": null,
   "metadata": {},
   "outputs": [],
   "source": []
  },
  {
   "cell_type": "code",
   "execution_count": null,
   "metadata": {},
   "outputs": [],
   "source": []
  },
  {
   "cell_type": "code",
   "execution_count": 10,
   "metadata": {},
   "outputs": [],
   "source": [
    "def gaussian(x, offset, amp, x0, sigma):\n",
    "#def gaussian(x, amp, x0, sigma):\n",
    "    return offset + amp * np.exp(-(x - x0) ** 2 / (2 * sigma ** 2))\n",
    "    #return amp * np.exp(-(x - x0) ** 2 / (2 * sigma ** 2))\n",
    "\n",
    "def gaussian_fit(x, y, correlation_threshold, min_cycle_length):\n",
    "    #mean = sum(x * y) / sum(y)\n",
    "    #sig = np.sqrt(sum(y * (x - mean) ** 2) / sum(y))\n",
    "    \n",
    "    n = x.size #len(x)\n",
    "    mean = (x[-1]-x[0])/2 #sum(x*y)/n\n",
    "    sig = (x[-1]-x[0])/2 #math.sqrt(sum((x-mean)**2)/(n-1))\n",
    "    #sig = sum(y*(x-mean)**2)/n\n",
    "    \n",
    "    print(\"estimated offset: \" + str(np.amin(y)))\n",
    "    min_offset = np.amin(y)-1\n",
    "    print(\"offset min: \" + str(min_offset))\n",
    "    max_offset = np.amin(y) + (np.amax(y)-np.amin(y))/2\n",
    "    print(\"offset max: \" + str(max_offset))\n",
    "    print(\"estimated amplitude: \" + str(np.amax(y)))\n",
    "    min_amp = np.amin(y)+correlation_threshold\n",
    "    print(\"amplitude min: \" + str(min_amp))\n",
    "    max_amp = 1 #np.amax(y)\n",
    "    print(\"amplitude max: \" + str(max_amp))\n",
    "    print(\"estimated mean: \" + str(mean))\n",
    "    min_mean = x[0]\n",
    "    print(\"mean min: \" + str(min_mean))\n",
    "    max_mean = x[-1]\n",
    "    print(\"mean max: \" + str(max_mean))\n",
    "    print(\"estimated sigma: \" + str(sig))\n",
    "    min_sig = mean/10 #min_cycle_length/4\n",
    "    print(\"sigma min: \" + str(min_sig))\n",
    "    max_sig = (x[-1]-x[0])\n",
    "    print(\"sigma max: \" + str(max_sig))\n",
    "    \n",
    "    with warnings.catch_warnings():\n",
    "        warnings.simplefilter(\"error\", ValueError) #OptimizeWarning)\n",
    "        try:\n",
    "            popt, pcov = curve_fit(gaussian, x, y, p0=[min(y), max(y), mean, sig])\n",
    "            #popt, pcov = curve_fit(gaussian, x, y, p0=[max(y), mean, sig]) #, bounds = ((min_amp,0,min_sig), (max_amp,np.inf,max_sig)))\n",
    "            #popt, pcov = curve_fit(gaussian, x, y, p0=[min(y), max(y), mean, sig], bounds = ((min_offset,min_amp,0,min_sig), (max_offset,max_amp,np.inf,max_sig)))\n",
    "\n",
    "            return popt\n",
    "        #except OptimizeWarning:\n",
    "            #return \"Could not fit Gaussian\"\n",
    "        except ValueError:\n",
    "            return \"Could not fit Gaussian\""
   ]
  }
 ],
 "metadata": {
  "kernelspec": {
   "display_name": "Python 3",
   "language": "python",
   "name": "python3"
  },
  "language_info": {
   "codemirror_mode": {
    "name": "ipython",
    "version": 3
   },
   "file_extension": ".py",
   "mimetype": "text/x-python",
   "name": "python",
   "nbconvert_exporter": "python",
   "pygments_lexer": "ipython3",
   "version": "3.7.4"
  }
 },
 "nbformat": 4,
 "nbformat_minor": 4
}

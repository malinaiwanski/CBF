{
 "cells": [
  {
   "cell_type": "code",
   "execution_count": 67,
   "metadata": {},
   "outputs": [],
   "source": [
    "# imports\n",
    "import numpy as np\n",
    "\n",
    "import sys as sys\n",
    "import os\n",
    "import tkinter as tk\n",
    "from tkinter import filedialog\n",
    "\n",
    "import matplotlib as mpl\n",
    "import matplotlib.pyplot as plt\n",
    "import pylab as plb\n",
    "\n",
    "from skimage import io\n",
    "from scipy.signal import argrelextrema\n",
    "from scipy.optimize import curve_fit\n",
    "from scipy import exp\n",
    "\n",
    "import time\n"
   ]
  },
  {
   "cell_type": "code",
   "execution_count": 3,
   "metadata": {},
   "outputs": [],
   "source": [
    "# options\n",
    "zsave = False"
   ]
  },
  {
   "cell_type": "code",
   "execution_count": 4,
   "metadata": {},
   "outputs": [],
   "source": [
    "# function for debugging\n",
    "def pause():\n",
    "    programPause = input('Press <ENTER> to continue.')"
   ]
  },
  {
   "cell_type": "code",
   "execution_count": 6,
   "metadata": {},
   "outputs": [],
   "source": [
    "root = tk.Tk()\n",
    "root.withdraw()\n",
    "\n",
    "directory = filedialog.askdirectory(title = 'choose folder with STICS data set format:.csv' ) \n",
    "os.chdir(directory)"
   ]
  },
  {
   "cell_type": "code",
   "execution_count": 16,
   "metadata": {},
   "outputs": [],
   "source": [
    "# metadata\n",
    "x_pixel_size = 0.116  # um\n",
    "y_pixel_size = 0.116  # um\n",
    "avg_delta_t = 11.58124  # ms - get this by running the appropriate code on the corresponding metadata!\n",
    "\n",
    "num_px_x = 90\n",
    "num_px_y = 108\n",
    "max_cycle_length = 5\n"
   ]
  },
  {
   "cell_type": "code",
   "execution_count": 49,
   "metadata": {},
   "outputs": [],
   "source": [
    "# initialize\n",
    "image_stack = np.empty(shape=(num_px_y,num_px_x))\n",
    "#print(image_stack.shape)\n",
    "\n",
    "period_map = np.empty(shape=(num_px_y,num_px_x))\n",
    "frequency_map = np.empty(shape=(num_px_y,num_px_x))\n"
   ]
  },
  {
   "cell_type": "code",
   "execution_count": 50,
   "metadata": {},
   "outputs": [],
   "source": [
    "def zslice_identifier(x):\n",
    "    return(x[-11:-6])"
   ]
  },
  {
   "cell_type": "code",
   "execution_count": 51,
   "metadata": {},
   "outputs": [
    {
     "name": "stdout",
     "output_type": "stream",
     "text": [
      "Pos0_STICS_map.tifPos0_STICS_map_c00_z0000_t0000.tif\n",
      "Pos0_STICS_map.tifPos0_STICS_map_c00_z0001_t0000.tif\n",
      "Pos0_STICS_map.tifPos0_STICS_map_c00_z0002_t0000.tif\n",
      "Pos0_STICS_map.tifPos0_STICS_map_c00_z0003_t0000.tif\n",
      "Pos0_STICS_map.tifPos0_STICS_map_c00_z0004_t0000.tif\n",
      "(108, 90, 6)\n"
     ]
    }
   ],
   "source": [
    "num_files = 0\n",
    "all_files = os.listdir(directory)\n",
    "\n",
    "for filename in sorted(all_files, key = zslice_identifier):\n",
    "    print(filename)\n",
    "\n",
    "    if filename.endswith(\".tif\"):\n",
    "        num_files += 1\n",
    "        temp_img = io.imread(filename)\n",
    "        \n",
    "        #imgplot = plt.imshow(temp_img)\n",
    "        #plt.show()\n",
    "        \n",
    "        #check image properties\n",
    "        image_size = temp_img.shape\n",
    "        bit_depth = temp_img.dtype\n",
    "        \n",
    "        image_stack=np.dstack((image_stack, temp_img))\n",
    "        \n",
    "if num_files != max_cycle_length:\n",
    "    print(\"Verify input metadata!\")\n",
    "    \n",
    "print(image_stack.shape)"
   ]
  },
  {
   "cell_type": "code",
   "execution_count": 52,
   "metadata": {},
   "outputs": [],
   "source": [
    "def gaussian(x, offset, amp, x0, sigma):\n",
    "    return offset + amp * np.exp(-(x - x0) ** 2 / (2 * sigma ** 2))\n",
    "\n",
    "def gaussian_fit(x, y):\n",
    "    mean = sum(x * y) / sum(y)\n",
    "    sigma = np.sqrt(sum(y * (x - mean) ** 2) / sum(y))\n",
    "    popt, pcov = curve_fit(gaussian, x, y, p0=[min(y), max(y), mean, sigma])\n",
    "    return popt"
   ]
  },
  {
   "cell_type": "code",
   "execution_count": 56,
   "metadata": {},
   "outputs": [],
   "source": [
    "for i in range(0,num_px_x):\n",
    "    for j in range(0,num_px_y):\n",
    "        delta_t = []\n",
    "        correlation = []\n",
    "        for k in range(0,max_cycle_length):\n",
    "            delta_t.append(k)\n",
    "            correlation.append(image_stack[j,i,k])\n",
    "            \n",
    "            #print(delta_t)\n",
    "            #print(correlation)\n",
    "            \n",
    "            if k == max_cycle_length-1:\n",
    "                \n",
    "                delta_t = np.array(delta_t)\n",
    "                correlation = np.array(correlation)\n",
    "                local_min_ind = argrelextrema(correlation,np.less)\n",
    "\n",
    "                if len(local_min_ind) > 1:\n",
    "                    x = delta_t[local_min_ind[0]:local_min_ind[1]]\n",
    "                    y = correlation[local_min_ind[0]:local_min_ind[1]]\n",
    "                    \n",
    "                    #mean is cycle duration of one period in frames as it gives you the first peak after delta_t=0 (image correlated with itself) and hence how long it takes to look most like the original image again\n",
    "                    popt = gaussian_fit(x,y)\n",
    "                    #popt is parameters of gaussian: popt[0] is offset, popt[1] is amplitude, popt[2] is mean, popt[3] is sigma\n",
    "                \n",
    "                    period = popt[2] # in frames\n",
    "                    frequency = 1/(period*(avg_delta_t/1000)) # converted to Hz\n",
    "                    \n",
    "                    period_map[j,i] = period\n",
    "                    frequency_map[j,i] = frequency\n"
   ]
  },
  {
   "cell_type": "code",
   "execution_count": 73,
   "metadata": {},
   "outputs": [
    {
     "name": "stdout",
     "output_type": "stream",
     "text": [
      "[-0.2         0.6         2.73417722         nan]\n"
     ]
    },
    {
     "name": "stderr",
     "output_type": "stream",
     "text": [
      "/opt/anaconda3/lib/python3.7/site-packages/ipykernel_launcher.py:6: RuntimeWarning: invalid value encountered in sqrt\n",
      "  \n"
     ]
    }
   ],
   "source": [
    "#for testing\n",
    "\n",
    "x = np.array([0,1,2,3,4])\n",
    "y = np.array([-0.2,0.1,0.6,0.3,-0.01])\n",
    "\n",
    "#mean is cycle duration of one period in frames as it gives you the first peak after delta_t=0 (image correlated with itself) and hence how long it takes to look most like the original image again\n",
    "popt = gaussian_fit(x,y)\n",
    "\n",
    "print(popt)\n",
    "\n",
    "frequency_map = [[1,1,1,1,1,1,1],[1,3,5,5,5,5,5],[2,3,5,5,5,5,5],[2,3,5,5,5,5,5],[2,3,5,5,5,5,5],[5,5,5,5,5,5,5]]"
   ]
  },
  {
   "cell_type": "code",
   "execution_count": 74,
   "metadata": {},
   "outputs": [],
   "source": [
    "#maybe filter out really short frequencies - background?"
   ]
  },
  {
   "cell_type": "code",
   "execution_count": 75,
   "metadata": {},
   "outputs": [
    {
     "data": {
      "image/png": "[encoded data removed]",
      "text/plain": [
       "<Figure size 720x720 with 2 Axes>"
      ]
     },
     "metadata": {
      "needs_background": "light"
     },
     "output_type": "display_data"
    }
   ],
   "source": [
    "%matplotlib inline\n",
    "\n",
    "#plot of frequencies\n",
    "fig, ax = plt.subplots(nrows=1, ncols=1, figsize=(10, 10))\n",
    "\n",
    "color_lim = (np.amin(frequency_map),np.amax(frequency_map))\n",
    "\n",
    "ax.imshow(frequency_map, cmap='viridis', aspect='auto', interpolation='nearest',clim=(color_lim[0],color_lim[1]))\n",
    "ax.set_title(\"Frequencies across image [Hz]\", fontsize=12)\n",
    "ax.set_ylabel(\"y\", fontsize=12)\n",
    "ax.set_xlabel(\"x\", fontsize=12)\n",
    "pcm = ax.pcolormesh(frequency_map,norm = mpl.colors.Normalize(vmin=color_lim[0],vmax=color_lim[1]),cmap='viridis')\n",
    "fig.colorbar(pcm, ax=ax)\n",
    "\n",
    "plt.tight_layout()\n",
    "\n",
    "# save fig\n",
    "if zsave == True:\n",
    "    #script_dir = os.path.abspath('..') #os.path.dirname('..')\n",
    "    results_dir = os.path.join(directory, 'Results/')\n",
    "    file_name = 'Frequency_map_{}.png'.format(dt.datetime.now().strftime('%Y%m%d%H%M%S'))\n",
    "    if not os.path.isdir(results_dir):    \n",
    "        os.makedirs(results_dir)\n",
    "    plt.savefig(results_dir + file_name,dpi=130)\n",
    "\n",
    "plt.show()"
   ]
  },
  {
   "cell_type": "code",
   "execution_count": null,
   "metadata": {},
   "outputs": [],
   "source": [
    "# Save our multicolour stack to a new ImageJ-compatible TIF file\n",
    "# tifffile wants our array to be in TZCYXS order for imageJ compatibility\n",
    "\n",
    "io.imsave('./assets/bbbc034v1/AICS_12_134_C=all.tif',\n",
    "          np.moveaxis(my4DArray,-1,1),\n",
    "          imagej=True,\n",
    "          resolution=(1/x_pixel_size,1/y_pixel_size),\n",
    "          metadata={'spacing':z_pixel_size,'unit':'nm'})"
   ]
  }
 ],
 "metadata": {
  "kernelspec": {
   "display_name": "Python 3",
   "language": "python",
   "name": "python3"
  },
  "language_info": {
   "codemirror_mode": {
    "name": "ipython",
    "version": 3
   },
   "file_extension": ".py",
   "mimetype": "text/x-python",
   "name": "python",
   "nbconvert_exporter": "python",
   "pygments_lexer": "ipython3",
   "version": "3.7.6"
  }
 },
 "nbformat": 4,
 "nbformat_minor": 4
}

{
 "cells": [
  {
   "cell_type": "code",
   "execution_count": 1,
   "metadata": {},
   "outputs": [],
   "source": [
    "# imports\n",
    "import numpy as np\n",
    "import math\n",
    "from scipy.spatial.distance import cdist\n",
    "\n",
    "import sys as sys\n",
    "import os\n",
    "import tkinter as tk\n",
    "from tkinter import filedialog\n",
    "\n",
    "import matplotlib as mpl\n",
    "import matplotlib.pyplot as plt\n",
    "#import pylab as plb\n",
    "import mpl_toolkits.mplot3d.axes3d as p3\n",
    "import ipywidgets as widgets\n",
    "\n",
    "from skimage import io\n",
    "from scipy.signal import argrelextrema, savgol_filter\n",
    "from scipy.optimize import curve_fit\n",
    "from scipy import exp\n",
    "from astropy import modeling\n",
    "#import warnings\n",
    "#from scipy.optimize import OptimizeWarning\n",
    "import threading\n",
    "from IPython.display import display, HTML\n",
    "import time\n",
    "import datetime as dt\n",
    "import csv\n",
    "\n",
    "#%matplotlib inline\n",
    "%matplotlib widget"
   ]
  },
  {
   "cell_type": "code",
   "execution_count": 2,
   "metadata": {},
   "outputs": [],
   "source": [
    "# options\n",
    "zsave = True\n",
    "zplot = True\n",
    "zallplot = False # also plots all the correlation profiles and shows fits; useful for testing\n",
    "zfixfreqscale = True # you can set the fixed frequency scale (used for plotting only) in the next cell\n",
    "zinteractive = True # allows you to interactively remove ROIs in the frequency map that you think were assigned/fit incorrectly"
   ]
  },
  {
   "cell_type": "code",
   "execution_count": 3,
   "metadata": {},
   "outputs": [
    {
     "name": "stdin",
     "output_type": "stream",
     "text": [
      "Enter average frame time (from other code) in msec:  10\n"
     ]
    },
    {
     "name": "stdout",
     "output_type": "stream",
     "text": [
      "average frame time: 10.0 msec\n"
     ]
    },
    {
     "name": "stdin",
     "output_type": "stream",
     "text": [
      "Enter size of image in x (width) in pixels:  721\n"
     ]
    },
    {
     "name": "stdout",
     "output_type": "stream",
     "text": [
      "width of image: 721 pixels\n"
     ]
    },
    {
     "name": "stdin",
     "output_type": "stream",
     "text": [
      "Enter size of image in y (height) in pixels:  675\n"
     ]
    },
    {
     "name": "stdout",
     "output_type": "stream",
     "text": [
      "height of image: 675 pixels\n"
     ]
    },
    {
     "name": "stdin",
     "output_type": "stream",
     "text": [
      "Enter width/height of ROIs used to produce STICS map in FIJI in pixels:  25\n"
     ]
    },
    {
     "name": "stdout",
     "output_type": "stream",
     "text": [
      "ROI size: 25 pixels\n"
     ]
    }
   ],
   "source": [
    "# metadata\n",
    "x_pixel_size = 0.116  # um\n",
    "y_pixel_size = 0.116  # um\n",
    "avg_delta_t = input('Enter average frame time (from other code) in msec: ') # ms - get this by running the appropriate code on the corresponding metadata!\n",
    "try:\n",
    "    avg_delta_t = float(avg_delta_t)\n",
    "    print('average frame time: {0} msec'.format(avg_delta_t))\n",
    "except ValueError:\n",
    "    print('Please enter a valid number')\n",
    "\n",
    "num_px_x = input('Enter size of image in x (width) in pixels: ') # pixels\n",
    "try:\n",
    "    num_px_x = int(num_px_x)\n",
    "    print('width of image: {0} pixels'.format(num_px_x))\n",
    "except ValueError:\n",
    "    print('Please enter a valid number')\n",
    "num_px_y = input('Enter size of image in y (height) in pixels: ') # pixels\n",
    "try:\n",
    "    num_px_y = int(num_px_y)\n",
    "    print('height of image: {0} pixels'.format(num_px_y))\n",
    "except ValueError:\n",
    "    print('Please enter a valid number')\n",
    "\n",
    "min_cycle_length = 2 #2 # frames\n",
    "max_cycle_length = 50 # frames; must be less than or equal number used in Fiji script\n",
    "#roi_size = 15 # pixels; must match that used in Fiji script\n",
    "roi_size = input('Enter width/height of ROIs used to produce STICS map in FIJI in pixels: ') # pixels\n",
    "try:\n",
    "    roi_size = int(roi_size)\n",
    "    print('ROI size: {0} pixels'.format(roi_size))\n",
    "except ValueError:\n",
    "    print('Please enter a valid number. Defaulting to 15.')\n",
    "    roi_size = 15\n",
    "    \n",
    "correlation_threshold = 0.05 #0.02 #\n",
    "min_freq = 0 #Hz\n",
    "max_freq = 12 #Hz"
   ]
  },
  {
   "cell_type": "code",
   "execution_count": 4,
   "metadata": {},
   "outputs": [],
   "source": [
    "# function for debugging\n",
    "def pause():\n",
    "    programPause = input('Press <ENTER> to continue.')"
   ]
  },
  {
   "cell_type": "code",
   "execution_count": 5,
   "metadata": {},
   "outputs": [],
   "source": [
    "root = tk.Tk()\n",
    "root.withdraw()\n",
    "\n",
    "directory = filedialog.askdirectory(title = 'choose folder with STICS data set format:.csv' ) \n",
    "os.chdir(directory)"
   ]
  },
  {
   "cell_type": "code",
   "execution_count": 6,
   "metadata": {},
   "outputs": [],
   "source": [
    "# initialize\n",
    "image_stack = np.empty(shape=(num_px_y,num_px_x))\n",
    "#print(image_stack.shape)\n",
    "\n",
    "period_map = np.zeros(shape=(num_px_y,num_px_x))\n",
    "frequency_map = np.zeros(shape=(num_px_y,num_px_x))\n",
    "\n",
    "centers_of_rois = []\n",
    "frequency_list = []\n"
   ]
  },
  {
   "cell_type": "code",
   "execution_count": 7,
   "metadata": {},
   "outputs": [],
   "source": [
    "def zslice_identifier(x):\n",
    "    #print(x[-15:-10])\n",
    "    return(x[-15:-10])\n",
    "    #return(x[-1:-5]) #for Hetty movies"
   ]
  },
  {
   "cell_type": "code",
   "execution_count": 8,
   "metadata": {},
   "outputs": [
    {
     "name": "stdout",
     "output_type": "stream",
     "text": [
      "20200714 HNEC0262 control norm 14-7 40x video-120200714 HNEC0262 control norm 14-7 40x video-1_STICS_map_c00_z0000_t0000.tif\n",
      "20200714 HNEC0262 control norm 14-7 40x video-120200714 HNEC0262 control norm 14-7 40x video-1_STICS_map_c00_z0001_t0000.tif\n",
      "20200714 HNEC0262 control norm 14-7 40x video-120200714 HNEC0262 control norm 14-7 40x video-1_STICS_map_c00_z0002_t0000.tif\n",
      "20200714 HNEC0262 control norm 14-7 40x video-120200714 HNEC0262 control norm 14-7 40x video-1_STICS_map_c00_z0003_t0000.tif\n",
      "20200714 HNEC0262 control norm 14-7 40x video-120200714 HNEC0262 control norm 14-7 40x video-1_STICS_map_c00_z0004_t0000.tif\n",
      "20200714 HNEC0262 control norm 14-7 40x video-120200714 HNEC0262 control norm 14-7 40x video-1_STICS_map_c00_z0005_t0000.tif\n",
      "20200714 HNEC0262 control norm 14-7 40x video-120200714 HNEC0262 control norm 14-7 40x video-1_STICS_map_c00_z0006_t0000.tif\n",
      "20200714 HNEC0262 control norm 14-7 40x video-120200714 HNEC0262 control norm 14-7 40x video-1_STICS_map_c00_z0007_t0000.tif\n",
      "20200714 HNEC0262 control norm 14-7 40x video-120200714 HNEC0262 control norm 14-7 40x video-1_STICS_map_c00_z0008_t0000.tif\n",
      "20200714 HNEC0262 control norm 14-7 40x video-120200714 HNEC0262 control norm 14-7 40x video-1_STICS_map_c00_z0009_t0000.tif\n",
      "20200714 HNEC0262 control norm 14-7 40x video-120200714 HNEC0262 control norm 14-7 40x video-1_STICS_map_c00_z0010_t0000.tif\n",
      "20200714 HNEC0262 control norm 14-7 40x video-120200714 HNEC0262 control norm 14-7 40x video-1_STICS_map_c00_z0011_t0000.tif\n",
      "20200714 HNEC0262 control norm 14-7 40x video-120200714 HNEC0262 control norm 14-7 40x video-1_STICS_map_c00_z0012_t0000.tif\n",
      "20200714 HNEC0262 control norm 14-7 40x video-120200714 HNEC0262 control norm 14-7 40x video-1_STICS_map_c00_z0013_t0000.tif\n",
      "20200714 HNEC0262 control norm 14-7 40x video-120200714 HNEC0262 control norm 14-7 40x video-1_STICS_map_c00_z0014_t0000.tif\n",
      "20200714 HNEC0262 control norm 14-7 40x video-120200714 HNEC0262 control norm 14-7 40x video-1_STICS_map_c00_z0015_t0000.tif\n",
      "20200714 HNEC0262 control norm 14-7 40x video-120200714 HNEC0262 control norm 14-7 40x video-1_STICS_map_c00_z0016_t0000.tif\n",
      "20200714 HNEC0262 control norm 14-7 40x video-120200714 HNEC0262 control norm 14-7 40x video-1_STICS_map_c00_z0017_t0000.tif\n",
      "20200714 HNEC0262 control norm 14-7 40x video-120200714 HNEC0262 control norm 14-7 40x video-1_STICS_map_c00_z0018_t0000.tif\n",
      "20200714 HNEC0262 control norm 14-7 40x video-120200714 HNEC0262 control norm 14-7 40x video-1_STICS_map_c00_z0019_t0000.tif\n",
      "20200714 HNEC0262 control norm 14-7 40x video-120200714 HNEC0262 control norm 14-7 40x video-1_STICS_map_c00_z0020_t0000.tif\n",
      "20200714 HNEC0262 control norm 14-7 40x video-120200714 HNEC0262 control norm 14-7 40x video-1_STICS_map_c00_z0021_t0000.tif\n",
      "20200714 HNEC0262 control norm 14-7 40x video-120200714 HNEC0262 control norm 14-7 40x video-1_STICS_map_c00_z0022_t0000.tif\n",
      "20200714 HNEC0262 control norm 14-7 40x video-120200714 HNEC0262 control norm 14-7 40x video-1_STICS_map_c00_z0023_t0000.tif\n",
      "20200714 HNEC0262 control norm 14-7 40x video-120200714 HNEC0262 control norm 14-7 40x video-1_STICS_map_c00_z0024_t0000.tif\n",
      "20200714 HNEC0262 control norm 14-7 40x video-120200714 HNEC0262 control norm 14-7 40x video-1_STICS_map_c00_z0025_t0000.tif\n",
      "20200714 HNEC0262 control norm 14-7 40x video-120200714 HNEC0262 control norm 14-7 40x video-1_STICS_map_c00_z0026_t0000.tif\n",
      "20200714 HNEC0262 control norm 14-7 40x video-120200714 HNEC0262 control norm 14-7 40x video-1_STICS_map_c00_z0027_t0000.tif\n",
      "20200714 HNEC0262 control norm 14-7 40x video-120200714 HNEC0262 control norm 14-7 40x video-1_STICS_map_c00_z0028_t0000.tif\n",
      "20200714 HNEC0262 control norm 14-7 40x video-120200714 HNEC0262 control norm 14-7 40x video-1_STICS_map_c00_z0029_t0000.tif\n",
      "20200714 HNEC0262 control norm 14-7 40x video-120200714 HNEC0262 control norm 14-7 40x video-1_STICS_map_c00_z0030_t0000.tif\n",
      "20200714 HNEC0262 control norm 14-7 40x video-120200714 HNEC0262 control norm 14-7 40x video-1_STICS_map_c00_z0031_t0000.tif\n",
      "20200714 HNEC0262 control norm 14-7 40x video-120200714 HNEC0262 control norm 14-7 40x video-1_STICS_map_c00_z0032_t0000.tif\n",
      "20200714 HNEC0262 control norm 14-7 40x video-120200714 HNEC0262 control norm 14-7 40x video-1_STICS_map_c00_z0033_t0000.tif\n",
      "20200714 HNEC0262 control norm 14-7 40x video-120200714 HNEC0262 control norm 14-7 40x video-1_STICS_map_c00_z0034_t0000.tif\n",
      "20200714 HNEC0262 control norm 14-7 40x video-120200714 HNEC0262 control norm 14-7 40x video-1_STICS_map_c00_z0035_t0000.tif\n",
      "20200714 HNEC0262 control norm 14-7 40x video-120200714 HNEC0262 control norm 14-7 40x video-1_STICS_map_c00_z0036_t0000.tif\n",
      "20200714 HNEC0262 control norm 14-7 40x video-120200714 HNEC0262 control norm 14-7 40x video-1_STICS_map_c00_z0037_t0000.tif\n",
      "20200714 HNEC0262 control norm 14-7 40x video-120200714 HNEC0262 control norm 14-7 40x video-1_STICS_map_c00_z0038_t0000.tif\n",
      "20200714 HNEC0262 control norm 14-7 40x video-120200714 HNEC0262 control norm 14-7 40x video-1_STICS_map_c00_z0039_t0000.tif\n",
      "20200714 HNEC0262 control norm 14-7 40x video-120200714 HNEC0262 control norm 14-7 40x video-1_STICS_map_c00_z0040_t0000.tif\n",
      "20200714 HNEC0262 control norm 14-7 40x video-120200714 HNEC0262 control norm 14-7 40x video-1_STICS_map_c00_z0041_t0000.tif\n",
      "20200714 HNEC0262 control norm 14-7 40x video-120200714 HNEC0262 control norm 14-7 40x video-1_STICS_map_c00_z0042_t0000.tif\n",
      "20200714 HNEC0262 control norm 14-7 40x video-120200714 HNEC0262 control norm 14-7 40x video-1_STICS_map_c00_z0043_t0000.tif\n",
      "20200714 HNEC0262 control norm 14-7 40x video-120200714 HNEC0262 control norm 14-7 40x video-1_STICS_map_c00_z0044_t0000.tif\n",
      "20200714 HNEC0262 control norm 14-7 40x video-120200714 HNEC0262 control norm 14-7 40x video-1_STICS_map_c00_z0045_t0000.tif\n",
      "20200714 HNEC0262 control norm 14-7 40x video-120200714 HNEC0262 control norm 14-7 40x video-1_STICS_map_c00_z0046_t0000.tif\n",
      "20200714 HNEC0262 control norm 14-7 40x video-120200714 HNEC0262 control norm 14-7 40x video-1_STICS_map_c00_z0047_t0000.tif\n",
      "20200714 HNEC0262 control norm 14-7 40x video-120200714 HNEC0262 control norm 14-7 40x video-1_STICS_map_c00_z0048_t0000.tif\n",
      "20200714 HNEC0262 control norm 14-7 40x video-120200714 HNEC0262 control norm 14-7 40x video-1_STICS_map_c00_z0049_t0000.tif\n",
      "(675, 721, 51)\n"
     ]
    }
   ],
   "source": [
    "num_files = 0\n",
    "all_files = os.listdir(directory)\n",
    "\n",
    "for filename in sorted(all_files, key = zslice_identifier):\n",
    "    \n",
    "    if filename.endswith(\".tif\"):\n",
    "        print(filename)\n",
    "        num_files += 1\n",
    "        temp_img = io.imread(filename)\n",
    "        \n",
    "        #imgplot = plt.imshow(temp_img)\n",
    "        #plt.show()\n",
    "        \n",
    "        #check image properties\n",
    "        image_size = temp_img.shape\n",
    "        bit_depth = temp_img.dtype\n",
    "        \n",
    "        image_stack=np.dstack((image_stack, temp_img))\n",
    "        \n",
    "    #os.close(filename)\n",
    "        \n",
    "if num_files != max_cycle_length:\n",
    "    print(\"Verify input metadata!\")\n",
    "    \n",
    "print(image_stack.shape)"
   ]
  },
  {
   "cell_type": "code",
   "execution_count": 9,
   "metadata": {},
   "outputs": [],
   "source": [
    "def find_nearest_two_val(array, value):\n",
    "    array = np.asarray(array)\n",
    "    idx = []\n",
    "    \n",
    "    idx.append((np.abs(array - value)).argmin())\n",
    "    temp_array = np.empty_like(array)\n",
    "    temp_array[:] = array\n",
    "    temp_array[idx[0]] = 100000 #ignore this index\n",
    "    idx.append((np.abs(temp_array - value)).argmin())\n",
    "    round_num = 0\n",
    "    test_val = (array[idx[0]]-value)*(array[idx[1]]-value)\n",
    "    while test_val > 0:\n",
    "        if round_num > 10:\n",
    "            return idx[0]\n",
    "        else:\n",
    "            temp_array[idx[1]] = 100000 #ignore this index\n",
    "            idx[1] = (np.abs(temp_array - value)).argmin()\n",
    "            test_val = (array[idx[0]]-value)*(array[idx[1]]-value)\n",
    "            round_num += 1\n",
    "    return sorted(idx)"
   ]
  },
  {
   "cell_type": "code",
   "execution_count": 10,
   "metadata": {},
   "outputs": [
    {
     "name": "stderr",
     "output_type": "stream",
     "text": [
      "WARNING: The fit may be unsuccessful; check fit_info['message'] for more information. [astropy.modeling.fitting]\n"
     ]
    },
    {
     "name": "stdout",
     "output_type": "stream",
     "text": [
      "done fitting\n"
     ]
    }
   ],
   "source": [
    "for i in range(0,num_px_x):\n",
    "    for j in range(0,num_px_y):\n",
    "        delta_t = []\n",
    "        correlation = []\n",
    "        for k in range(0,max_cycle_length):\n",
    "            delta_t.append(k)\n",
    "            correlation.append(image_stack[j,i,k])\n",
    "            \n",
    "            if k == max_cycle_length-1:\n",
    "                \n",
    "                delta_t = np.array(delta_t)\n",
    "                correlation = np.array(correlation)\n",
    "                \n",
    "                correlation[np.isnan(correlation)] = 0\n",
    "                correlation[np.isinf(correlation)] = 1\n",
    "                #correlation[-np.isinf(correlation)] = -1\n",
    "                \n",
    "                #window length for savitzky-golay filter must be odd, so round up 1 if min_cycle_length is even\n",
    "                if (min_cycle_length % 2) == 0:\n",
    "                    window_length = min_cycle_length + 1\n",
    "                else:\n",
    "                    window_length = min_cycle_length\n",
    "                \n",
    "                #print(correlation)\n",
    "\n",
    "                filt_correlation = savgol_filter(correlation, window_length, 1) #min_cycle_length defines window size, polynomial order 3\n",
    "                \n",
    "                if correlation[correlation > correlation_threshold].size > 3:\n",
    "                    local_min_ind = argrelextrema(filt_correlation,np.less)[0]\n",
    "                    #local_min_ind = local_min_ind[0]#[local_min_ind[0] > min_cycle_length] #ignore first few frames\n",
    "                    local_max_ind = argrelextrema(filt_correlation,np.greater)\n",
    "                    local_max_ind = local_max_ind[0][local_max_ind[0] > min_cycle_length] #ignore first few frames\n",
    "                    local_max_ind = local_max_ind[local_max_ind > correlation_threshold] #ensure maxima are large enough\n",
    "                    if len(local_max_ind) > 0:\n",
    "                        approx_max_ind = local_max_ind[0] #delta_t[filt_correlation==np.amax(filt_correlation[local_max_ind])]\n",
    "                        ind_of_ind = find_nearest_two_val(local_min_ind, approx_max_ind)\n",
    "\n",
    "                        if type(ind_of_ind) != np.int64: #two valid minima found\n",
    "                            minima_for_fit = [local_min_ind[ind_of_ind[0]]+1,local_min_ind[ind_of_ind[1]]-1]\n",
    "\n",
    "                            if correlation[approx_max_ind] > correlation_threshold:\n",
    "                                x = np.empty_like(delta_t[minima_for_fit[0]:minima_for_fit[1]])\n",
    "                                x[:] = delta_t[minima_for_fit[0]:minima_for_fit[1]]\n",
    "                                y = np.empty_like(correlation[minima_for_fit[0]:minima_for_fit[1]])\n",
    "                                y[:] = correlation[minima_for_fit[0]:minima_for_fit[1]]\n",
    "\n",
    "                                if len(x) > min_cycle_length: #proceed with fit only if sufficient temporal resolution\n",
    "\n",
    "                                    #remove offset\n",
    "                                    offset = y.min()\n",
    "                                    y-=offset\n",
    "\n",
    "                                    fitter = modeling.fitting.LevMarLSQFitter()\n",
    "                                    initial_gaussian = modeling.models.Gaussian1D(amplitude= max(y), mean=approx_max_ind, stddev=min_cycle_length/2) #approx_max_ind-minima_for_fit[0])   # initial guess\n",
    "                                    fitted_gaussian = fitter(initial_gaussian, x, y)\n",
    "                                    #parameters are amplitude, mean, stddev\n",
    "                                    #mean is cycle duration of one period in frames as it gives you the first peak after delta_t=0 (image correlated with itself) and hence how long it takes to look most like the original image again\n",
    "                                    period = 0\n",
    "                                    period = fitted_gaussian.parameters[1]\n",
    "\n",
    "                                    frequency = 0;\n",
    "                                    frequency = 1/(period*(avg_delta_t/1000)) # converted to Hz\n",
    "                                    period_map[j-round(roi_size/2):j+round(roi_size/2),i-round(roi_size/2):i+round(roi_size/2)] = period\n",
    "                                    frequency_map[j-round(roi_size/2):j+round(roi_size/2),i-round(roi_size/2):i+round(roi_size/2)] = frequency\n",
    "                                    \n",
    "                                    centers_of_rois.append((j,i))\n",
    "                                    \n",
    "                                    frequency_list.append(frequency)\n",
    "\n",
    "                                    if zallplot == True:\n",
    "                                        %matplotlib inline\n",
    "\n",
    "                                        #plot of frequencies\n",
    "                                        fig, ax = plt.subplots(nrows=1, ncols=1, figsize=(10, 10))\n",
    "\n",
    "                                        ax.plot(delta_t, correlation, color='blue', linestyle='dashed',linewidth=2, markersize=12)   \n",
    "                                        ax.plot(delta_t, filt_correlation, color='red', linestyle='dashed',linewidth=2, markersize=12)\n",
    "                                        ax.plot(delta_t[minima_for_fit], filt_correlation[minima_for_fit], 'rx')\n",
    "                                        ax.plot(delta_t[approx_max_ind], filt_correlation[approx_max_ind], 'bx')\n",
    "                                        ax.plot(delta_t[local_min_ind], filt_correlation[local_min_ind], 'rd')\n",
    "                                        ax.plot(delta_t[local_max_ind], filt_correlation[local_max_ind], 'bd')\n",
    "\n",
    "                                        plot_x = np.linspace(x[0],x[-1], 200)\n",
    "                                        ax.plot(plot_x, offset+fitted_gaussian(plot_x), color='black', linestyle='solid',linewidth=2, markersize=12)\n",
    "                                        ax.plot(fitted_gaussian.parameters[1], 0, 'kx')\n",
    "\n",
    "                                        ax.set_ylim(-1,1)\n",
    "                                        ax.set_title(\"Correlation in ROI\", fontsize=12)\n",
    "                                        ax.set_ylabel(\"Correlation\", fontsize=12)\n",
    "                                        ax.set_xlabel(\"Time lag\", fontsize=12)\n",
    "\n",
    "                                        plt.tight_layout()\n",
    "\n",
    "\n",
    "                                        # save fig\n",
    "                                        if zsave == True:\n",
    "                                            #script_dir = os.path.abspath('..') #os.path.dirname('..')\n",
    "                                            results_dir = os.path.join(directory, 'Results/')\n",
    "                                            file_name = 'Fitted_z-profile_correlation_{}_{}_{}.png'.format(i,j,dt.datetime.now().strftime('%Y%m%d%H%M%S'))\n",
    "                                            if not os.path.isdir(results_dir):    \n",
    "                                                os.makedirs(results_dir)\n",
    "                                            plt.savefig(results_dir + file_name,dpi=130)\n",
    "                                        plt.show()\n",
    "                                        \n",
    "                                        print(\"amplitude: \" + str(fitted_gaussian.parameters[0]))\n",
    "                                        print(\"mean: \" + str(fitted_gaussian.parameters[1]))\n",
    "                                        print(\"standard deviation: \" + str(fitted_gaussian.parameters[2]))\n",
    "\n",
    "                                        \n",
    "%matplotlib widget\n",
    "\n",
    "print('done fitting')"
   ]
  },
  {
   "cell_type": "code",
   "execution_count": 43,
   "metadata": {},
   "outputs": [],
   "source": [
    "# interactively remove outlier ROIs that do not match with your visual observations\n",
    "if zinteractive == True:\n",
    "    new_freq_map = np.empty_like(frequency_map)\n",
    "    new_freq_map[:] = frequency_map\n",
    "    \n",
    "    new_freq_list = frequency_list[:]\n",
    "    new_centers_of_rois = centers_of_rois[:]\n",
    "    \n",
    "    def closest_node(node, nodes):\n",
    "        closest = nodes[cdist([node], nodes).argmin()]\n",
    "        if cdist([node],[closest])[0] > roi_size:\n",
    "            print('Unable to find close point. Try clicking more carefully')\n",
    "            return\n",
    "        return closest\n",
    "\n",
    "    def define_roi(x,y):\n",
    "        # find nearest ROI center to click\n",
    "        clicked_point = (float(x),float(y))\n",
    "        #closest_roi = find_roi(centers_of_rois, clicked_point)\n",
    "        closest_roi = closest_node(clicked_point, centers_of_rois)\n",
    "        #print(closest_roi)\n",
    "        i = closest_roi[0]\n",
    "        j = closest_roi[1]\n",
    "\n",
    "        # find all surrounding x,y\n",
    "        all_x = list(range((i-round(roi_size/2)),(i+round(roi_size/2))))\n",
    "        all_y = list(range((j-round(roi_size/2)),(j+round(roi_size/2))))\n",
    "\n",
    "        return [all_x, all_y], closest_roi\n",
    "\n",
    "    def remove_freq(xs, ys, center):  \n",
    "        #roi = define_roi(x, y)\n",
    "        freq = frequency_map[center[0], center[1]]\n",
    "        if freq == 0:\n",
    "            print('No non-zero frequency to delete.')\n",
    "            return\n",
    "        #remove from frequency map\n",
    "        for i in range(len(xs)):\n",
    "            for j in range(len(ys)):\n",
    "                #print(len(xs))\n",
    "                #print(len(ys))\n",
    "                #print(xs[i])\n",
    "                #print(ys[j])\n",
    "                new_freq_map[xs[i],ys[j]] = 0\n",
    "\n",
    "        #remove from frequency list (removes first item with this value from the list, but the order doesn't matter for the list)\n",
    "        new_freq_list.remove(freq)\n",
    "        #remove from centers of rois\n",
    "        new_centers_of_rois.remove(center)\n",
    "    \n",
    "    def onclick(event):\n",
    "        if event.inaxes is not None and not hasattr(event, 'already_picked'):\n",
    "            ax = event.inaxes\n",
    "\n",
    "            remove = [artist for artist in pickable_artists if artist.contains(event)[0]]\n",
    "\n",
    "            if not remove:\n",
    "                # add a pt\n",
    "                x, y = ax.transData.inverted().transform_point([event.x, event.y])\n",
    "                pt, = ax.plot(x, y, 'o', picker=5)\n",
    "                pickable_artists.append(pt)\n",
    "            else:\n",
    "                for artist in remove:\n",
    "                    artist.remove()\n",
    "            plt.draw()\n",
    "            return rois, freqs\n",
    "\n",
    "    "
   ]
  },
  {
   "cell_type": "code",
   "execution_count": 44,
   "metadata": {},
   "outputs": [
    {
     "data": {
      "application/vnd.jupyter.widget-view+json": {
       "model_id": "4cea9bcff4bd489ba9163690479442c2",
       "version_major": 2,
       "version_minor": 0
      },
      "text/plain": [
       "Canvas(toolbar=Toolbar(toolitems=[('Home', 'Reset original view', 'home', 'home'), ('Back', 'Back to previous …"
      ]
     },
     "metadata": {},
     "output_type": "display_data"
    }
   ],
   "source": [
    "# plot frequency map\n",
    "if zplot == True: \n",
    "    if zinteractive == True:\n",
    "        %matplotlib widget\n",
    "    if zinteractive == False:\n",
    "        %matplotlib inline\n",
    "    \n",
    "    #plot of frequencies\n",
    "    img_height = 10\n",
    "    img_width = img_height*num_px_y/num_px_x\n",
    "    fig, ax = plt.subplots(nrows=1, ncols=1, figsize=(img_height, img_width))\n",
    "        \n",
    "    if zfixfreqscale == False:\n",
    "        color_lim = (np.nanmin(frequency_map),np.nanmax(frequency_map))\n",
    "    else:\n",
    "        color_lim = (min_freq,max_freq)\n",
    "    if zinteractive == True:\n",
    "        #im = ax.imshow(frequency_map, cmap='viridis', aspect='auto', interpolation='nearest',clim=(color_lim[0],color_lim[1]),  picker=True)\n",
    "        im = ax.imshow(frequency_map, cmap='viridis', aspect='auto', interpolation='nearest',clim=(color_lim[0],color_lim[1]), animated = True)\n",
    "    else:\n",
    "        im = ax.imshow(frequency_map, cmap='viridis', aspect='auto', interpolation='nearest',clim=(color_lim[0],color_lim[1]))\n",
    "    if zinteractive == True:\n",
    "        ax.set_title(\"Frequencies across image [Hz] \\nClick to assign erroneous frequencies to be removed \\nClick again to not remove it\", fontsize=12)\n",
    "    else:    \n",
    "        ax.set_title(\"Frequencies across image [Hz]\", fontsize=12)\n",
    "    ax.set_ylabel(\"y\", fontsize=12)\n",
    "    ax.set_xlabel(\"x\", fontsize=12)\n",
    "    pcm = ax.pcolormesh(frequency_map,norm = mpl.colors.Normalize(vmin=color_lim[0],vmax=color_lim[1]),cmap='viridis')\n",
    "    fig.colorbar(pcm, ax=ax)\n",
    "\n",
    "    #plt.tight_layout()\n",
    "    \n",
    "    if zinteractive == True:\n",
    "        cid = fig.canvas.mpl_connect('button_press_event', onclick)\n",
    "        pickable_artists = []\n",
    "        pt, = ax.plot(0.5, 0.5, 'o')  # 5 points tolerance\n",
    "        pickable_artists.append(pt)\n",
    "        \n",
    "    # save fig\n",
    "    if zsave == True:\n",
    "        #script_dir = os.path.abspath('..') #os.path.dirname('..')\n",
    "        results_dir = os.path.join(directory, 'Results/')\n",
    "        file_name = 'Frequency_map_{}.png'.format(dt.datetime.now().strftime('%Y%m%d%H%M%S'))\n",
    "        if not os.path.isdir(results_dir):    \n",
    "            os.makedirs(results_dir)\n",
    "        plt.savefig(results_dir + file_name,dpi=130)    \n",
    "        \n",
    "    plt.show()"
   ]
  },
  {
   "cell_type": "code",
   "execution_count": 50,
   "metadata": {},
   "outputs": [
    {
     "name": "stdout",
     "output_type": "stream",
     "text": [
      "Disconnected interactivity. Your changes can be seen by running the next two cells. If you are not satisfied with them, you will have the option to undo them after the plot.\n"
     ]
    }
   ],
   "source": [
    "# disconnect interactivity\n",
    "if zinteractive == True:\n",
    "    fig.canvas.mpl_disconnect(cid)\n",
    "    print('Disconnected interactivity. Your changes can be seen by running the next two cells. If you are not satisfied with them, you will have the option to undo them after the plot.')"
   ]
  },
  {
   "cell_type": "code",
   "execution_count": 46,
   "metadata": {},
   "outputs": [
    {
     "name": "stdout",
     "output_type": "stream",
     "text": [
      "Removing frequency data (11.838953787657426Hz) from ROI at: x = 538, y = 213\n",
      "Removing frequency data (11.809557028337775Hz) from ROI at: x = 588, y = 313\n"
     ]
    }
   ],
   "source": [
    "rois = []\n",
    "freqs = []\n",
    "for i in range (1,len(pickable_artists)):\n",
    "    ydata,xdata = pickable_artists[i].get_data()\n",
    "    roi, center = define_roi(xdata, ydata)\n",
    "    rois.append(roi)\n",
    "    freqs.append(frequency_map[center[0],center[1]])\n",
    "    print('Removing frequency data (' + str(frequency_map[center[0],center[1]]) + 'Hz) from ROI at: x = ' + str(center[1]) + ', y = ' + str(center[0]))\n",
    "    remove_freq(roi[0], roi[1], center)\n",
    "    #print(roi[0])\n"
   ]
  },
  {
   "cell_type": "code",
   "execution_count": 47,
   "metadata": {},
   "outputs": [
    {
     "data": {
      "image/png": "[encoded data removed]",
      "text/plain": [
       "<Figure size 720x674.064 with 2 Axes>"
      ]
     },
     "metadata": {
      "needs_background": "light"
     },
     "output_type": "display_data"
    }
   ],
   "source": [
    "if zplot == True and zinteractive == True: \n",
    "\n",
    "    %matplotlib inline\n",
    "    \n",
    "    #plot of frequencies\n",
    "    img_height = 10\n",
    "    img_width = img_height*num_px_y/num_px_x\n",
    "    fig, ax = plt.subplots(nrows=1, ncols=1, figsize=(img_height, img_width))\n",
    "        \n",
    "    if zfixfreqscale == False:\n",
    "        color_lim = (np.nanmin(new_freq_map),np.nanmax(new_freq_map))\n",
    "    else:\n",
    "        color_lim = (min_freq,max_freq)\n",
    "\n",
    "    im = ax.imshow(new_freq_map, cmap='viridis', aspect='auto', interpolation='nearest',clim=(color_lim[0],color_lim[1]))\n",
    "    ax.set_title(\"Frequencies across image [Hz]\", fontsize=12)\n",
    "    ax.set_ylabel(\"y\", fontsize=12)\n",
    "    ax.set_xlabel(\"x\", fontsize=12)\n",
    "    pcm = ax.pcolormesh(new_freq_map,norm = mpl.colors.Normalize(vmin=color_lim[0],vmax=color_lim[1]),cmap='viridis')\n",
    "    fig.colorbar(pcm, ax=ax)\n",
    "\n",
    "    plt.tight_layout()\n",
    "        \n",
    "    # save fig\n",
    "    if zsave == True:\n",
    "        #script_dir = os.path.abspath('..') #os.path.dirname('..')\n",
    "        results_dir = os.path.join(directory, 'Results/')\n",
    "        file_name = 'Frequency_map_edited{}.png'.format(dt.datetime.now().strftime('%Y%m%d%H%M%S'))\n",
    "        if not os.path.isdir(results_dir):    \n",
    "            os.makedirs(results_dir)\n",
    "        plt.savefig(results_dir + file_name,dpi=130)    \n",
    "        \n",
    "    plt.show()"
   ]
  },
  {
   "cell_type": "code",
   "execution_count": 48,
   "metadata": {},
   "outputs": [
    {
     "name": "stdin",
     "output_type": "stream",
     "text": [
      "Do you want to undo all frequency deletions? (y/n):  n\n"
     ]
    },
    {
     "name": "stdout",
     "output_type": "stream",
     "text": [
      "Saved changes to frequency map\n"
     ]
    }
   ],
   "source": [
    "if zinteractive == True:\n",
    "    def yes_no(question):\n",
    "        reply = str(input(question+' (y/n): ')).lower().strip()\n",
    "        try:\n",
    "            if reply[0] == 'y':\n",
    "                return True\n",
    "            elif reply[0] == 'n':\n",
    "                return False\n",
    "            else:\n",
    "                print('Invalid Input')\n",
    "                return yes_no(question)\n",
    "        except Exception as error:\n",
    "            print(\"Please enter a valid input\")\n",
    "            print(error)\n",
    "            return yes_no(question)\n",
    "    \n",
    "    answer = yes_no('Do you want to undo all frequency deletions?')\n",
    "    if answer == True:\n",
    "        new_freq_map[:] = frequency_map\n",
    "        new_freq_list = frequency_list[:]\n",
    "        new_centers_of_rois = centers_of_rois[:]\n",
    "        print('Run above cells again if you wish to choose other frequencies to delete')\n",
    "    elif answer == False:\n",
    "        #frequency_map[:] = new_freq_map\n",
    "        #frequency_list = new_freq_list[:]\n",
    "        #centers_of_rois = new_centers_of_rois[:]\n",
    "        print('Saved changes to frequency map')\n",
    "   "
   ]
  },
  {
   "cell_type": "code",
   "execution_count": 49,
   "metadata": {},
   "outputs": [
    {
     "name": "stdout",
     "output_type": "stream",
     "text": [
      "done\n"
     ]
    }
   ],
   "source": [
    "if zsave == True:\n",
    "    save_freq = np.asarray(frequency_list)\n",
    "    \n",
    "    results_dir = os.path.join(directory, 'Results/')\n",
    "    #file_name = 'Frequency_list_{}.csv'.format(dt.datetime.now().strftime('%Y%m%d%H%M%S'))\n",
    "    file_name = 'Frequency_list.csv'\n",
    "    if not os.path.isdir(results_dir):    \n",
    "        os.makedirs(results_dir)\n",
    "    \n",
    "    np.savetxt(results_dir + file_name, save_freq, delimiter=',', newline='\\n', fmt='%f')\n",
    "\n",
    "print('done')"
   ]
  },
  {
   "cell_type": "code",
   "execution_count": 30,
   "metadata": {},
   "outputs": [
    {
     "name": "stdout",
     "output_type": "stream",
     "text": [
      "done\n"
     ]
    }
   ],
   "source": []
  },
  {
   "cell_type": "code",
   "execution_count": null,
   "metadata": {},
   "outputs": [],
   "source": []
  },
  {
   "cell_type": "code",
   "execution_count": null,
   "metadata": {},
   "outputs": [],
   "source": []
  },
  {
   "cell_type": "code",
   "execution_count": null,
   "metadata": {},
   "outputs": [],
   "source": []
  },
  {
   "cell_type": "code",
   "execution_count": null,
   "metadata": {},
   "outputs": [],
   "source": []
  },
  {
   "cell_type": "code",
   "execution_count": 10,
   "metadata": {},
   "outputs": [],
   "source": [
    "def gaussian(x, offset, amp, x0, sigma):\n",
    "#def gaussian(x, amp, x0, sigma):\n",
    "    return offset + amp * np.exp(-(x - x0) ** 2 / (2 * sigma ** 2))\n",
    "    #return amp * np.exp(-(x - x0) ** 2 / (2 * sigma ** 2))\n",
    "\n",
    "def gaussian_fit(x, y, correlation_threshold, min_cycle_length):\n",
    "    #mean = sum(x * y) / sum(y)\n",
    "    #sig = np.sqrt(sum(y * (x - mean) ** 2) / sum(y))\n",
    "    \n",
    "    n = x.size #len(x)\n",
    "    mean = (x[-1]-x[0])/2 #sum(x*y)/n\n",
    "    sig = (x[-1]-x[0])/2 #math.sqrt(sum((x-mean)**2)/(n-1))\n",
    "    #sig = sum(y*(x-mean)**2)/n\n",
    "    \n",
    "    print(\"estimated offset: \" + str(np.amin(y)))\n",
    "    min_offset = np.amin(y)-1\n",
    "    print(\"offset min: \" + str(min_offset))\n",
    "    max_offset = np.amin(y) + (np.amax(y)-np.amin(y))/2\n",
    "    print(\"offset max: \" + str(max_offset))\n",
    "    print(\"estimated amplitude: \" + str(np.amax(y)))\n",
    "    min_amp = np.amin(y)+correlation_threshold\n",
    "    print(\"amplitude min: \" + str(min_amp))\n",
    "    max_amp = 1 #np.amax(y)\n",
    "    print(\"amplitude max: \" + str(max_amp))\n",
    "    print(\"estimated mean: \" + str(mean))\n",
    "    min_mean = x[0]\n",
    "    print(\"mean min: \" + str(min_mean))\n",
    "    max_mean = x[-1]\n",
    "    print(\"mean max: \" + str(max_mean))\n",
    "    print(\"estimated sigma: \" + str(sig))\n",
    "    min_sig = mean/10 #min_cycle_length/4\n",
    "    print(\"sigma min: \" + str(min_sig))\n",
    "    max_sig = (x[-1]-x[0])\n",
    "    print(\"sigma max: \" + str(max_sig))\n",
    "    \n",
    "    with warnings.catch_warnings():\n",
    "        warnings.simplefilter(\"error\", ValueError) #OptimizeWarning)\n",
    "        try:\n",
    "            popt, pcov = curve_fit(gaussian, x, y, p0=[min(y), max(y), mean, sig])\n",
    "            #popt, pcov = curve_fit(gaussian, x, y, p0=[max(y), mean, sig]) #, bounds = ((min_amp,0,min_sig), (max_amp,np.inf,max_sig)))\n",
    "            #popt, pcov = curve_fit(gaussian, x, y, p0=[min(y), max(y), mean, sig], bounds = ((min_offset,min_amp,0,min_sig), (max_offset,max_amp,np.inf,max_sig)))\n",
    "\n",
    "            return popt\n",
    "        #except OptimizeWarning:\n",
    "            #return \"Could not fit Gaussian\"\n",
    "        except ValueError:\n",
    "            return \"Could not fit Gaussian\""
   ]
  },
  {
   "cell_type": "code",
   "execution_count": null,
   "metadata": {},
   "outputs": [],
   "source": [
    "#        def on_press(event):\n",
    "#            with out:\n",
    "#                print('Removing data from ROI at: x = ' + str(event.xdata) + ', y = ' + str(event.ydata))\n",
    "#                remove_freq(event.x, event.y)\n",
    "#                cid = fig.canvas.mpl_connect('button_press_event', on_press)\n",
    "#                im.set_data(frequency_map)\n",
    "#                fig.canvas.draw()\n",
    "#                fig.canvas.flush_events()\n",
    "#            display(out)\n",
    "#            #return\n",
    "\n",
    "    def on_pick(event):\n",
    "        artist = event.artist\n",
    "        if isinstance(artist, AxesImage):\n",
    "            im = artist\n",
    "            A = im.get_array()\n",
    "            print('Pick image', A.shape)\n",
    "            \n",
    "#    def onclick(event):\n",
    "#        if event.xdata != None and event.ydata != None:\n",
    "#            print(event.xdata, event.ydata)\n",
    "class RemoveFrequencies:\n",
    "\n",
    "    def __init__(self, im, out):\n",
    "        #self.line = line\n",
    "        self.roi = [] #define_roi(click_x, click_y)\n",
    "        self.freq = [] #frequency_map(click_x, click_y)\n",
    "#            if freq == 0:\n",
    "#                print('No non-zero frequency to delete.')\n",
    "#                return\n",
    "#            #remove from frequency map\n",
    "#            frequency_map[roi[0],roi[1]] = 0\n",
    "\n",
    "#            #remove from frequency list (removes first item with this value from the list, but the order doesn't matter for the list)\n",
    "#            frequency_list.remove(freq)\n",
    "        self.cid = fig.canvas.mpl_connect('button_press_event', self)\n",
    "\n",
    "    def __call__(self, event, out):\n",
    "        print('click', event)\n",
    "        self.roi = define_roi(event.x, event.y)\n",
    "        self.freq = frequency_map(event.x, event.y)\n",
    "        out.append_stdout('Removing data from ROI at: x = ' + str(event.xdata) + ', y = ' + str(event.ydata))\n",
    "        if freq == 0:\n",
    "            out.append_stdout('No non-zero frequency to delete.')\n",
    "        #remove from frequency map\n",
    "        frequency_map[roi[0],roi[1]] = 0\n",
    "\n",
    "        #remove from frequency list (removes first item with this value from the list, but the order doesn't matter for the list)\n",
    "        frequency_list.remove(freq)\n",
    "        #if event.inaxes!=self.line.axes: return\n",
    "        #self.xs.append(event.xdata)\n",
    "        #self.ys.append(event.ydata)\n",
    "        self.im.set_data(frequency_map)\n",
    "        self.figure.canvas.draw()"
   ]
  },
  {
   "cell_type": "code",
   "execution_count": 16,
   "metadata": {},
   "outputs": [
    {
     "data": {
      "text/plain": [
       "'Display in main thread'"
      ]
     },
     "metadata": {},
     "output_type": "display_data"
    },
    {
     "data": {
      "application/vnd.jupyter.widget-view+json": {
       "model_id": "75dc1411ff844bbc926a9f129dcbb608",
       "version_major": 2,
       "version_minor": 0
      },
      "text/plain": [
       "Output()"
      ]
     },
     "metadata": {},
     "output_type": "display_data"
    }
   ],
   "source": [
    "import threading\n",
    "from IPython.display import display, HTML\n",
    "import ipywidgets as widgets\n",
    "import time\n",
    "\n",
    "def thread_func(something, out):\n",
    "    for i in range(1, 5):\n",
    "        time.sleep(0.3)\n",
    "        out.append_stdout('{} {} {}\\n'.format(i, '**'*i, something))\n",
    "    out.append_display_data(HTML(\"<em>All done!</em>\"))\n",
    "\n",
    "display('Display in main thread')\n",
    "out = widgets.Output()\n",
    "# Now the key: the container is displayed (while empty) in the main thread\n",
    "display(out)\n",
    "\n",
    "thread = threading.Thread(\n",
    "    target=thread_func,\n",
    "    args=(\"some text\", out))\n",
    "thread.start()\n",
    "\n",
    "out.clear_output()"
   ]
  },
  {
   "cell_type": "code",
   "execution_count": 18,
   "metadata": {},
   "outputs": [
    {
     "data": {
      "application/vnd.jupyter.widget-view+json": {
       "model_id": "e5e2c95e3bb4416d90d55b9d29ac5ba0",
       "version_major": 2,
       "version_minor": 0
      },
      "text/plain": [
       "Canvas(toolbar=Toolbar(toolitems=[('Home', 'Reset original view', 'home', 'home'), ('Back', 'Back to previous …"
      ]
     },
     "metadata": {},
     "output_type": "display_data"
    }
   ],
   "source": [
    "import matplotlib.pyplot as plt\n",
    "\n",
    "fig = plt.figure()\n",
    "ax = plt.axes()\n",
    "\n",
    "ax.set_xlim(0, 1)\n",
    "ax.set_ylim(0, 1)\n",
    "\n",
    "pickable_artists = []\n",
    "pt, = ax.plot(0.5, 0.5, 'o')  # 5 points tolerance\n",
    "pickable_artists.append(pt)\n",
    "\n",
    "\n",
    "def onclick(event):\n",
    "    if event.inaxes is not None and not hasattr(event, 'already_picked'):\n",
    "        ax = event.inaxes\n",
    "\n",
    "        remove = [artist for artist in pickable_artists if artist.contains(event)[0]]\n",
    "\n",
    "        if not remove:\n",
    "            # add a pt\n",
    "            x, y = ax.transData.inverted().transform_point([event.x, event.y])\n",
    "            pt, = ax.plot(x, y, 'o', picker=5)\n",
    "            pickable_artists.append(pt)\n",
    "        else:\n",
    "            for artist in remove:\n",
    "                artist.remove()\n",
    "        plt.draw()\n",
    "\n",
    "\n",
    "fig.canvas.mpl_connect('button_release_event', onclick)\n",
    "\n",
    "plt.show()"
   ]
  },
  {
   "cell_type": "code",
   "execution_count": 15,
   "metadata": {},
   "outputs": [
    {
     "data": {
      "application/vnd.jupyter.widget-view+json": {
       "model_id": "0a8be88d4c28495b8deff4c0f99bbba6",
       "version_major": 2,
       "version_minor": 0
      },
      "text/plain": [
       "Canvas(toolbar=Toolbar(toolitems=[('Home', 'Reset original view', 'home', 'home'), ('Back', 'Back to previous …"
      ]
     },
     "metadata": {},
     "output_type": "display_data"
    }
   ],
   "source": [
    "class LineBuilder:\n",
    "    def __init__(self, line):\n",
    "        self.line = line\n",
    "        self.xs = list(line.get_xdata())\n",
    "        self.ys = list(line.get_ydata())\n",
    "        self.cid = line.figure.canvas.mpl_connect('button_press_event', self)\n",
    "\n",
    "    def __call__(self, event):\n",
    "        print('click', event)\n",
    "        if event.inaxes!=self.line.axes: return\n",
    "        self.xs.append(event.xdata)\n",
    "        self.ys.append(event.ydata)\n",
    "        self.line.set_data(self.xs, self.ys)\n",
    "        self.line.figure.canvas.draw()\n",
    "\n",
    "fig = plt.figure()\n",
    "ax = fig.add_subplot(111)\n",
    "ax.set_title('click to build line segments')\n",
    "line, = ax.plot([0], [0])  # empty line\n",
    "linebuilder = LineBuilder(line)\n",
    "\n",
    "plt.show()"
   ]
  },
  {
   "cell_type": "code",
   "execution_count": 17,
   "metadata": {},
   "outputs": [
    {
     "data": {
      "application/vnd.jupyter.widget-view+json": {
       "model_id": "e92241b1f3a34ff297785cc26e8dded7",
       "version_major": 2,
       "version_minor": 0
      },
      "text/plain": [
       "Canvas(toolbar=Toolbar(toolitems=[('Home', 'Reset original view', 'home', 'home'), ('Back', 'Back to previous …"
      ]
     },
     "metadata": {},
     "output_type": "display_data"
    }
   ],
   "source": [
    "%matplotlib widget\n",
    "import numpy as np\n",
    "import matplotlib.pyplot as plt\n",
    "\n",
    "\n",
    "class DrawDragPoints(object):\n",
    "    \"\"\"\n",
    "    Demonstrates a basic example of the \"scaffolding\" you need to efficiently\n",
    "    blit drawable/draggable/deleteable artists on top of a background.\n",
    "    \"\"\"\n",
    "    def __init__(self):\n",
    "        self.fig, self.ax = self.setup_axes()\n",
    "        self.xy = []\n",
    "        self.tolerance = 10\n",
    "        self._num_clicks = 0\n",
    "\n",
    "        # The artist we'll be modifying...\n",
    "        self.points = self.ax.scatter([], [], s=200, color='red',\n",
    "                                      picker=self.tolerance, animated=True)\n",
    "\n",
    "        connect = self.fig.canvas.mpl_connect\n",
    "        connect('button_press_event', self.on_click)\n",
    "        self.draw_cid = connect('draw_event', self.grab_background)\n",
    "\n",
    "    def setup_axes(self):\n",
    "        \"\"\"Setup the figure/axes and plot any background artists.\"\"\"\n",
    "        fig, ax = plt.subplots()\n",
    "\n",
    "        # imshow would be _much_ faster in this case, but let's deliberately\n",
    "        # use something slow...\n",
    "        ax.imshow(np.random.random((1000, 1000)), cmap='gray')\n",
    "\n",
    "        ax.set_title('Left click to add/drag a point\\nRight-click to delete')\n",
    "        return fig, ax\n",
    "\n",
    "    def on_click(self, event):\n",
    "        \"\"\"Decide whether to add, delete, or drag a point.\"\"\"\n",
    "        # If we're using a tool on the toolbar, don't add/draw a point...\n",
    "        if self.fig.canvas.toolbar._active is not None:\n",
    "            return\n",
    "\n",
    "        contains, info = self.points.contains(event)\n",
    "        if contains:\n",
    "            i = info['ind'][0]\n",
    "            if event.button == 1:\n",
    "                self.start_drag(i)\n",
    "            elif event.button == 3:\n",
    "                self.delete_point(i)\n",
    "        else:\n",
    "            self.add_point(event)\n",
    "\n",
    "    def update(self):\n",
    "        \"\"\"Update the artist for any changes to self.xy.\"\"\"\n",
    "        self.points.set_offsets(self.xy)\n",
    "        self.blit()\n",
    "\n",
    "    def add_point(self, event):\n",
    "        self.xy.append([event.xdata, event.ydata])\n",
    "        self.update()\n",
    "\n",
    "    def delete_point(self, i):\n",
    "        self.xy.pop(i)\n",
    "        self.update()\n",
    "\n",
    "    def start_drag(self, i):\n",
    "        \"\"\"Bind mouse motion to updating a particular point.\"\"\"\n",
    "        self.drag_i = i\n",
    "        connect = self.fig.canvas.mpl_connect\n",
    "        cid1 = connect('motion_notify_event', self.drag_update)\n",
    "        cid2 = connect('button_release_event', self.end_drag)\n",
    "        self.drag_cids = [cid1, cid2]\n",
    "\n",
    "    def drag_update(self, event):\n",
    "        \"\"\"Update a point that's being moved interactively.\"\"\"\n",
    "        self.xy[self.drag_i] = [event.xdata, event.ydata]\n",
    "        self.update()\n",
    "\n",
    "    def end_drag(self, event):\n",
    "        \"\"\"End the binding of mouse motion to a particular point.\"\"\"\n",
    "        for cid in self.drag_cids:\n",
    "            self.fig.canvas.mpl_disconnect(cid)\n",
    "\n",
    "    def safe_draw(self):\n",
    "        \"\"\"Temporarily disconnect the draw_event callback to avoid recursion\"\"\"\n",
    "        canvas = self.fig.canvas\n",
    "        canvas.mpl_disconnect(self.draw_cid)\n",
    "        canvas.draw()\n",
    "        self.draw_cid = canvas.mpl_connect('draw_event', self.grab_background)\n",
    "\n",
    "    def grab_background(self, event=None):\n",
    "        \"\"\"\n",
    "        When the figure is resized, hide the points, draw everything,\n",
    "        and update the background.\n",
    "        \"\"\"\n",
    "        self.points.set_visible(False)\n",
    "        self.safe_draw()\n",
    "\n",
    "        # With most backends (e.g. TkAgg), we could grab (and refresh, in\n",
    "        # self.blit) self.ax.bbox instead of self.fig.bbox, but Qt4Agg, and\n",
    "        # some others, requires us to update the _full_ canvas, instead.\n",
    "        self.background = self.fig.canvas.copy_from_bbox(self.fig.bbox)\n",
    "\n",
    "        self.points.set_visible(True)\n",
    "        self.blit()\n",
    "\n",
    "    def blit(self):\n",
    "        \"\"\"\n",
    "        Efficiently update the figure, without needing to redraw the\n",
    "        \"background\" artists.\n",
    "        \"\"\"\n",
    "        self.fig.canvas.restore_region(self.background)\n",
    "        self.ax.draw_artist(self.points)\n",
    "        self.fig.canvas.blit(self.fig.bbox)\n",
    "\n",
    "    def show(self):\n",
    "        plt.show()\n",
    "\n",
    "DrawDragPoints().show()\n"
   ]
  }
 ],
 "metadata": {
  "kernelspec": {
   "display_name": "Python 3",
   "language": "python",
   "name": "python3"
  },
  "language_info": {
   "codemirror_mode": {
    "name": "ipython",
    "version": 3
   },
   "file_extension": ".py",
   "mimetype": "text/x-python",
   "name": "python",
   "nbconvert_exporter": "python",
   "pygments_lexer": "ipython3",
   "version": "3.7.4"
  }
 },
 "nbformat": 4,
 "nbformat_minor": 4
}
